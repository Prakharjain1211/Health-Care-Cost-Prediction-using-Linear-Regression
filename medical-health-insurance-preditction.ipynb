{
 "cells": [
  {
   "cell_type": "markdown",
   "id": "dc0f812f",
   "metadata": {
    "id": "view-in-github",
    "papermill": {
     "duration": 0.010293,
     "end_time": "2022-07-11T05:48:18.166371",
     "exception": false,
     "start_time": "2022-07-11T05:48:18.156078",
     "status": "completed"
    },
    "tags": []
   },
   "source": [
    "<a href=\"https://colab.research.google.com/github/Prakharjain1211/Health-Care-Cost-Prediction-using-Linear-Regression/blob/main/Medical_health_Insurance_prediction.ipynb\" target=\"_parent\"><img src=\"https://colab.research.google.com/assets/colab-badge.svg\" alt=\"Open In Colab\"/></a>"
   ]
  },
  {
   "cell_type": "code",
   "execution_count": 1,
   "id": "c0c11ba9",
   "metadata": {
    "execution": {
     "iopub.execute_input": "2022-07-11T05:48:18.188709Z",
     "iopub.status.busy": "2022-07-11T05:48:18.187614Z",
     "iopub.status.idle": "2022-07-11T05:48:19.714630Z",
     "shell.execute_reply": "2022-07-11T05:48:19.713666Z"
    },
    "id": "o2CPLEnGDppe",
    "papermill": {
     "duration": 1.541263,
     "end_time": "2022-07-11T05:48:19.717285",
     "exception": false,
     "start_time": "2022-07-11T05:48:18.176022",
     "status": "completed"
    },
    "tags": []
   },
   "outputs": [],
   "source": [
    "# Importing the required files\n",
    "\n",
    "import pandas as pd                                  # for data Manipulation\n",
    "import seaborn as sns                                # for visualization\n",
    "import matplotlib.pyplot as plt                      # for ploting the graphs and charts\n",
    "from matplotlib import style\n",
    "from sklearn.model_selection import train_test_split\n",
    "from sklearn.linear_model import LinearRegression"
   ]
  },
  {
   "cell_type": "code",
   "execution_count": 2,
   "id": "a33b6aee",
   "metadata": {
    "execution": {
     "iopub.execute_input": "2022-07-11T05:48:19.736872Z",
     "iopub.status.busy": "2022-07-11T05:48:19.736511Z",
     "iopub.status.idle": "2022-07-11T05:48:19.758552Z",
     "shell.execute_reply": "2022-07-11T05:48:19.757545Z"
    },
    "id": "exOUXt8ND4Yh",
    "papermill": {
     "duration": 0.034971,
     "end_time": "2022-07-11T05:48:19.761047",
     "exception": false,
     "start_time": "2022-07-11T05:48:19.726076",
     "status": "completed"
    },
    "tags": []
   },
   "outputs": [],
   "source": [
    "# Reading the csv file\n",
    "df=pd.read_csv(\"../input/health-insurance-cost-prediction/insurance.csv\") #Actual Data"
   ]
  },
  {
   "cell_type": "markdown",
   "id": "00609499",
   "metadata": {
    "id": "pDR9VImmxZhk",
    "papermill": {
     "duration": 0.008661,
     "end_time": "2022-07-11T05:48:19.778546",
     "exception": false,
     "start_time": "2022-07-11T05:48:19.769885",
     "status": "completed"
    },
    "tags": []
   },
   "source": [
    "# **Exploration of the data**"
   ]
  },
  {
   "cell_type": "code",
   "execution_count": 3,
   "id": "676a360e",
   "metadata": {
    "execution": {
     "iopub.execute_input": "2022-07-11T05:48:19.798684Z",
     "iopub.status.busy": "2022-07-11T05:48:19.797918Z",
     "iopub.status.idle": "2022-07-11T05:48:19.820959Z",
     "shell.execute_reply": "2022-07-11T05:48:19.819796Z"
    },
    "id": "73GiAT_zD6MZ",
    "outputId": "73592b84-dadf-4567-e917-1813ac0e2a19",
    "papermill": {
     "duration": 0.03616,
     "end_time": "2022-07-11T05:48:19.823688",
     "exception": false,
     "start_time": "2022-07-11T05:48:19.787528",
     "status": "completed"
    },
    "tags": []
   },
   "outputs": [
    {
     "data": {
      "text/html": [
       "<div>\n",
       "<style scoped>\n",
       "    .dataframe tbody tr th:only-of-type {\n",
       "        vertical-align: middle;\n",
       "    }\n",
       "\n",
       "    .dataframe tbody tr th {\n",
       "        vertical-align: top;\n",
       "    }\n",
       "\n",
       "    .dataframe thead th {\n",
       "        text-align: right;\n",
       "    }\n",
       "</style>\n",
       "<table border=\"1\" class=\"dataframe\">\n",
       "  <thead>\n",
       "    <tr style=\"text-align: right;\">\n",
       "      <th></th>\n",
       "      <th>age</th>\n",
       "      <th>sex</th>\n",
       "      <th>bmi</th>\n",
       "      <th>children</th>\n",
       "      <th>smoker</th>\n",
       "      <th>region</th>\n",
       "      <th>charges</th>\n",
       "    </tr>\n",
       "  </thead>\n",
       "  <tbody>\n",
       "    <tr>\n",
       "      <th>0</th>\n",
       "      <td>19</td>\n",
       "      <td>female</td>\n",
       "      <td>27.900</td>\n",
       "      <td>0</td>\n",
       "      <td>yes</td>\n",
       "      <td>southwest</td>\n",
       "      <td>16884.92400</td>\n",
       "    </tr>\n",
       "    <tr>\n",
       "      <th>1</th>\n",
       "      <td>18</td>\n",
       "      <td>male</td>\n",
       "      <td>33.770</td>\n",
       "      <td>1</td>\n",
       "      <td>no</td>\n",
       "      <td>southeast</td>\n",
       "      <td>1725.55230</td>\n",
       "    </tr>\n",
       "    <tr>\n",
       "      <th>2</th>\n",
       "      <td>28</td>\n",
       "      <td>male</td>\n",
       "      <td>33.000</td>\n",
       "      <td>3</td>\n",
       "      <td>no</td>\n",
       "      <td>southeast</td>\n",
       "      <td>4449.46200</td>\n",
       "    </tr>\n",
       "    <tr>\n",
       "      <th>3</th>\n",
       "      <td>33</td>\n",
       "      <td>male</td>\n",
       "      <td>22.705</td>\n",
       "      <td>0</td>\n",
       "      <td>no</td>\n",
       "      <td>northwest</td>\n",
       "      <td>21984.47061</td>\n",
       "    </tr>\n",
       "    <tr>\n",
       "      <th>4</th>\n",
       "      <td>32</td>\n",
       "      <td>male</td>\n",
       "      <td>28.880</td>\n",
       "      <td>0</td>\n",
       "      <td>no</td>\n",
       "      <td>northwest</td>\n",
       "      <td>3866.85520</td>\n",
       "    </tr>\n",
       "  </tbody>\n",
       "</table>\n",
       "</div>"
      ],
      "text/plain": [
       "   age     sex     bmi  children smoker     region      charges\n",
       "0   19  female  27.900         0    yes  southwest  16884.92400\n",
       "1   18    male  33.770         1     no  southeast   1725.55230\n",
       "2   28    male  33.000         3     no  southeast   4449.46200\n",
       "3   33    male  22.705         0     no  northwest  21984.47061\n",
       "4   32    male  28.880         0     no  northwest   3866.85520"
      ]
     },
     "execution_count": 3,
     "metadata": {},
     "output_type": "execute_result"
    }
   ],
   "source": [
    "df.head()"
   ]
  },
  {
   "cell_type": "code",
   "execution_count": 4,
   "id": "71874dab",
   "metadata": {
    "execution": {
     "iopub.execute_input": "2022-07-11T05:48:19.844747Z",
     "iopub.status.busy": "2022-07-11T05:48:19.844368Z",
     "iopub.status.idle": "2022-07-11T05:48:19.851301Z",
     "shell.execute_reply": "2022-07-11T05:48:19.850014Z"
    },
    "id": "dYI21tlBEG1Z",
    "outputId": "aa9c2ceb-2fa4-446a-8c09-32de4a1d769d",
    "papermill": {
     "duration": 0.020313,
     "end_time": "2022-07-11T05:48:19.853697",
     "exception": false,
     "start_time": "2022-07-11T05:48:19.833384",
     "status": "completed"
    },
    "tags": []
   },
   "outputs": [
    {
     "data": {
      "text/plain": [
       "(1338, 7)"
      ]
     },
     "execution_count": 4,
     "metadata": {},
     "output_type": "execute_result"
    }
   ],
   "source": [
    "df.shape"
   ]
  },
  {
   "cell_type": "code",
   "execution_count": 5,
   "id": "812acdda",
   "metadata": {
    "execution": {
     "iopub.execute_input": "2022-07-11T05:48:19.874412Z",
     "iopub.status.busy": "2022-07-11T05:48:19.874003Z",
     "iopub.status.idle": "2022-07-11T05:48:19.902913Z",
     "shell.execute_reply": "2022-07-11T05:48:19.902035Z"
    },
    "id": "NA-pvhKaEIrG",
    "outputId": "70631aa2-26ef-45aa-c81c-42e2a0b7d4e9",
    "papermill": {
     "duration": 0.042638,
     "end_time": "2022-07-11T05:48:19.905756",
     "exception": false,
     "start_time": "2022-07-11T05:48:19.863118",
     "status": "completed"
    },
    "tags": []
   },
   "outputs": [
    {
     "name": "stdout",
     "output_type": "stream",
     "text": [
      "<class 'pandas.core.frame.DataFrame'>\n",
      "RangeIndex: 1338 entries, 0 to 1337\n",
      "Data columns (total 7 columns):\n",
      " #   Column    Non-Null Count  Dtype  \n",
      "---  ------    --------------  -----  \n",
      " 0   age       1338 non-null   int64  \n",
      " 1   sex       1338 non-null   object \n",
      " 2   bmi       1338 non-null   float64\n",
      " 3   children  1338 non-null   int64  \n",
      " 4   smoker    1338 non-null   object \n",
      " 5   region    1338 non-null   object \n",
      " 6   charges   1338 non-null   float64\n",
      "dtypes: float64(2), int64(2), object(3)\n",
      "memory usage: 73.3+ KB\n"
     ]
    }
   ],
   "source": [
    "df.info()"
   ]
  },
  {
   "cell_type": "code",
   "execution_count": 6,
   "id": "0211b6f2",
   "metadata": {
    "execution": {
     "iopub.execute_input": "2022-07-11T05:48:19.927854Z",
     "iopub.status.busy": "2022-07-11T05:48:19.927151Z",
     "iopub.status.idle": "2022-07-11T05:48:19.938108Z",
     "shell.execute_reply": "2022-07-11T05:48:19.936976Z"
    },
    "id": "E4zFJJpDEKQp",
    "outputId": "4eb62e3b-f735-4f32-bbb5-7ff855f17994",
    "papermill": {
     "duration": 0.024124,
     "end_time": "2022-07-11T05:48:19.940491",
     "exception": false,
     "start_time": "2022-07-11T05:48:19.916367",
     "status": "completed"
    },
    "tags": []
   },
   "outputs": [
    {
     "data": {
      "text/plain": [
       "age         0\n",
       "sex         0\n",
       "bmi         0\n",
       "children    0\n",
       "smoker      0\n",
       "region      0\n",
       "charges     0\n",
       "dtype: int64"
      ]
     },
     "execution_count": 6,
     "metadata": {},
     "output_type": "execute_result"
    }
   ],
   "source": [
    "df.isnull().sum()"
   ]
  },
  {
   "cell_type": "code",
   "execution_count": 7,
   "id": "08a8a2a7",
   "metadata": {
    "execution": {
     "iopub.execute_input": "2022-07-11T05:48:19.962354Z",
     "iopub.status.busy": "2022-07-11T05:48:19.961947Z",
     "iopub.status.idle": "2022-07-11T05:48:19.968881Z",
     "shell.execute_reply": "2022-07-11T05:48:19.967861Z"
    },
    "id": "8rpXm3s9EMTn",
    "outputId": "4bc1404a-8c78-441e-c714-03bec92cbba6",
    "papermill": {
     "duration": 0.020806,
     "end_time": "2022-07-11T05:48:19.971076",
     "exception": false,
     "start_time": "2022-07-11T05:48:19.950270",
     "status": "completed"
    },
    "tags": []
   },
   "outputs": [
    {
     "data": {
      "text/plain": [
       "Index(['age', 'sex', 'bmi', 'children', 'smoker', 'region', 'charges'], dtype='object')"
      ]
     },
     "execution_count": 7,
     "metadata": {},
     "output_type": "execute_result"
    }
   ],
   "source": [
    "df.columns"
   ]
  },
  {
   "cell_type": "code",
   "execution_count": 8,
   "id": "800ae353",
   "metadata": {
    "execution": {
     "iopub.execute_input": "2022-07-11T05:48:19.992404Z",
     "iopub.status.busy": "2022-07-11T05:48:19.992023Z",
     "iopub.status.idle": "2022-07-11T05:48:20.019326Z",
     "shell.execute_reply": "2022-07-11T05:48:20.018211Z"
    },
    "id": "K2I9H6_WEPPO",
    "outputId": "572f12c1-babc-4efa-a0d5-9a273ce8a9a1",
    "papermill": {
     "duration": 0.041004,
     "end_time": "2022-07-11T05:48:20.021933",
     "exception": false,
     "start_time": "2022-07-11T05:48:19.980929",
     "status": "completed"
    },
    "tags": []
   },
   "outputs": [
    {
     "data": {
      "text/html": [
       "<div>\n",
       "<style scoped>\n",
       "    .dataframe tbody tr th:only-of-type {\n",
       "        vertical-align: middle;\n",
       "    }\n",
       "\n",
       "    .dataframe tbody tr th {\n",
       "        vertical-align: top;\n",
       "    }\n",
       "\n",
       "    .dataframe thead th {\n",
       "        text-align: right;\n",
       "    }\n",
       "</style>\n",
       "<table border=\"1\" class=\"dataframe\">\n",
       "  <thead>\n",
       "    <tr style=\"text-align: right;\">\n",
       "      <th></th>\n",
       "      <th>age</th>\n",
       "      <th>bmi</th>\n",
       "      <th>children</th>\n",
       "      <th>charges</th>\n",
       "    </tr>\n",
       "  </thead>\n",
       "  <tbody>\n",
       "    <tr>\n",
       "      <th>count</th>\n",
       "      <td>1338.000000</td>\n",
       "      <td>1338.000000</td>\n",
       "      <td>1338.000000</td>\n",
       "      <td>1338.000000</td>\n",
       "    </tr>\n",
       "    <tr>\n",
       "      <th>mean</th>\n",
       "      <td>39.207025</td>\n",
       "      <td>30.663397</td>\n",
       "      <td>1.094918</td>\n",
       "      <td>13270.422265</td>\n",
       "    </tr>\n",
       "    <tr>\n",
       "      <th>std</th>\n",
       "      <td>14.049960</td>\n",
       "      <td>6.098187</td>\n",
       "      <td>1.205493</td>\n",
       "      <td>12110.011237</td>\n",
       "    </tr>\n",
       "    <tr>\n",
       "      <th>min</th>\n",
       "      <td>18.000000</td>\n",
       "      <td>15.960000</td>\n",
       "      <td>0.000000</td>\n",
       "      <td>1121.873900</td>\n",
       "    </tr>\n",
       "    <tr>\n",
       "      <th>25%</th>\n",
       "      <td>27.000000</td>\n",
       "      <td>26.296250</td>\n",
       "      <td>0.000000</td>\n",
       "      <td>4740.287150</td>\n",
       "    </tr>\n",
       "    <tr>\n",
       "      <th>50%</th>\n",
       "      <td>39.000000</td>\n",
       "      <td>30.400000</td>\n",
       "      <td>1.000000</td>\n",
       "      <td>9382.033000</td>\n",
       "    </tr>\n",
       "    <tr>\n",
       "      <th>75%</th>\n",
       "      <td>51.000000</td>\n",
       "      <td>34.693750</td>\n",
       "      <td>2.000000</td>\n",
       "      <td>16639.912515</td>\n",
       "    </tr>\n",
       "    <tr>\n",
       "      <th>max</th>\n",
       "      <td>64.000000</td>\n",
       "      <td>53.130000</td>\n",
       "      <td>5.000000</td>\n",
       "      <td>63770.428010</td>\n",
       "    </tr>\n",
       "  </tbody>\n",
       "</table>\n",
       "</div>"
      ],
      "text/plain": [
       "               age          bmi     children       charges\n",
       "count  1338.000000  1338.000000  1338.000000   1338.000000\n",
       "mean     39.207025    30.663397     1.094918  13270.422265\n",
       "std      14.049960     6.098187     1.205493  12110.011237\n",
       "min      18.000000    15.960000     0.000000   1121.873900\n",
       "25%      27.000000    26.296250     0.000000   4740.287150\n",
       "50%      39.000000    30.400000     1.000000   9382.033000\n",
       "75%      51.000000    34.693750     2.000000  16639.912515\n",
       "max      64.000000    53.130000     5.000000  63770.428010"
      ]
     },
     "execution_count": 8,
     "metadata": {},
     "output_type": "execute_result"
    }
   ],
   "source": [
    "df.describe()"
   ]
  },
  {
   "cell_type": "code",
   "execution_count": 9,
   "id": "567e251d",
   "metadata": {
    "execution": {
     "iopub.execute_input": "2022-07-11T05:48:20.044188Z",
     "iopub.status.busy": "2022-07-11T05:48:20.043797Z",
     "iopub.status.idle": "2022-07-11T05:48:20.259167Z",
     "shell.execute_reply": "2022-07-11T05:48:20.257906Z"
    },
    "id": "9W8HnjOsEQiT",
    "outputId": "8d8bd6f8-f201-44d5-f0d1-de3ea2ba78e9",
    "papermill": {
     "duration": 0.230191,
     "end_time": "2022-07-11T05:48:20.262204",
     "exception": false,
     "start_time": "2022-07-11T05:48:20.032013",
     "status": "completed"
    },
    "tags": []
   },
   "outputs": [
    {
     "data": {
      "image/png": "[encoded data removed]",
      "text/plain": [
       "<Figure size 360x360 with 1 Axes>"
      ]
     },
     "metadata": {
      "needs_background": "light"
     },
     "output_type": "display_data"
    }
   ],
   "source": [
    "plt.figure(figsize=(5,5))\n",
    "style.use('ggplot')\n",
    "sns.countplot(x='sex', data=df)\n",
    "plt.title('Gender Distribution')\n",
    "plt.show()"
   ]
  },
  {
   "cell_type": "code",
   "execution_count": 10,
   "id": "254c1498",
   "metadata": {
    "execution": {
     "iopub.execute_input": "2022-07-11T05:48:20.286944Z",
     "iopub.status.busy": "2022-07-11T05:48:20.286244Z",
     "iopub.status.idle": "2022-07-11T05:48:20.443774Z",
     "shell.execute_reply": "2022-07-11T05:48:20.442864Z"
    },
    "id": "hqGFO1xKESkN",
    "outputId": "dddec662-8004-4340-b479-70061b198b3f",
    "papermill": {
     "duration": 0.173671,
     "end_time": "2022-07-11T05:48:20.446152",
     "exception": false,
     "start_time": "2022-07-11T05:48:20.272481",
     "status": "completed"
    },
    "tags": []
   },
   "outputs": [
    {
     "data": {
      "image/png": "[encoded data removed]",
      "text/plain": [
       "<Figure size 360x360 with 1 Axes>"
      ]
     },
     "metadata": {},
     "output_type": "display_data"
    }
   ],
   "source": [
    "plt.figure(figsize=(5,5))\n",
    "sns.countplot(x='smoker', data=df)\n",
    "plt.title('Smoker')\n",
    "plt.show()"
   ]
  },
  {
   "cell_type": "code",
   "execution_count": 11,
   "id": "c733e22f",
   "metadata": {
    "execution": {
     "iopub.execute_input": "2022-07-11T05:48:20.468484Z",
     "iopub.status.busy": "2022-07-11T05:48:20.468082Z",
     "iopub.status.idle": "2022-07-11T05:48:20.625500Z",
     "shell.execute_reply": "2022-07-11T05:48:20.624082Z"
    },
    "id": "LJWrkVQ9EUWc",
    "outputId": "2b9e6b5e-19f9-4356-99f4-ea89d7b8054e",
    "papermill": {
     "duration": 0.171185,
     "end_time": "2022-07-11T05:48:20.627850",
     "exception": false,
     "start_time": "2022-07-11T05:48:20.456665",
     "status": "completed"
    },
    "tags": []
   },
   "outputs": [
    {
     "data": {
      "image/png": "[encoded data removed]",
      "text/plain": [
       "<Figure size 360x360 with 1 Axes>"
      ]
     },
     "metadata": {},
     "output_type": "display_data"
    }
   ],
   "source": [
    "plt.figure(figsize=(5,5))\n",
    "sns.countplot(x='smoker', data=df)\n",
    "plt.title('Smoker')\n",
    "plt.show()"
   ]
  },
  {
   "cell_type": "code",
   "execution_count": 12,
   "id": "3f1cdd20",
   "metadata": {
    "execution": {
     "iopub.execute_input": "2022-07-11T05:48:20.651324Z",
     "iopub.status.busy": "2022-07-11T05:48:20.650896Z",
     "iopub.status.idle": "2022-07-11T05:48:20.983876Z",
     "shell.execute_reply": "2022-07-11T05:48:20.982725Z"
    },
    "id": "zxhvVUu7EWxI",
    "outputId": "6adfa00d-ab38-4a06-cf3c-58a14e6f351e",
    "papermill": {
     "duration": 0.347928,
     "end_time": "2022-07-11T05:48:20.986470",
     "exception": false,
     "start_time": "2022-07-11T05:48:20.638542",
     "status": "completed"
    },
    "tags": []
   },
   "outputs": [
    {
     "data": {
      "text/plain": [
       "Text(0.5, 1.0, 'Cost vs Region')"
      ]
     },
     "execution_count": 12,
     "metadata": {},
     "output_type": "execute_result"
    },
    {
     "data": {
      "image/png": "[encoded data removed]",
      "text/plain": [
       "<Figure size 360x360 with 1 Axes>"
      ]
     },
     "metadata": {},
     "output_type": "display_data"
    }
   ],
   "source": [
    "plt.figure(figsize=(5,5))\n",
    "sns.barplot(x='region', y='charges', data=df)\n",
    "plt.title('Cost vs Region')"
   ]
  },
  {
   "cell_type": "code",
   "execution_count": 13,
   "id": "69e6953c",
   "metadata": {
    "execution": {
     "iopub.execute_input": "2022-07-11T05:48:21.011802Z",
     "iopub.status.busy": "2022-07-11T05:48:21.010861Z",
     "iopub.status.idle": "2022-07-11T05:48:21.350121Z",
     "shell.execute_reply": "2022-07-11T05:48:21.348930Z"
    },
    "id": "0A-udboKEYmo",
    "outputId": "2165f993-3146-4778-b290-0e8e108bf516",
    "papermill": {
     "duration": 0.354783,
     "end_time": "2022-07-11T05:48:21.352789",
     "exception": false,
     "start_time": "2022-07-11T05:48:20.998006",
     "status": "completed"
    },
    "tags": []
   },
   "outputs": [
    {
     "data": {
      "text/plain": [
       "Text(0.5, 1.0, 'Charges for smokers')"
      ]
     },
     "execution_count": 13,
     "metadata": {},
     "output_type": "execute_result"
    },
    {
     "data": {
      "image/png": "[encoded data removed]",
      "text/plain": [
       "<Figure size 360x360 with 1 Axes>"
      ]
     },
     "metadata": {},
     "output_type": "display_data"
    }
   ],
   "source": [
    "plt.figure(figsize=(5,5))\n",
    "sns.barplot(x='sex', y='charges',hue='smoker', data=df)\n",
    "plt.title('Charges for smokers')"
   ]
  },
  {
   "cell_type": "code",
   "execution_count": 14,
   "id": "1112a0f7",
   "metadata": {
    "execution": {
     "iopub.execute_input": "2022-07-11T05:48:21.378831Z",
     "iopub.status.busy": "2022-07-11T05:48:21.378101Z",
     "iopub.status.idle": "2022-07-11T05:48:22.128475Z",
     "shell.execute_reply": "2022-07-11T05:48:22.127114Z"
    },
    "id": "2pkw38VBEaZ2",
    "outputId": "e1785de4-e472-4528-9b3b-464040f8ec42",
    "papermill": {
     "duration": 0.766464,
     "end_time": "2022-07-11T05:48:22.131223",
     "exception": false,
     "start_time": "2022-07-11T05:48:21.364759",
     "status": "completed"
    },
    "tags": []
   },
   "outputs": [
    {
     "data": {
      "image/png": "[encoded data removed]",
      "text/plain": [
       "<Figure size 720x720 with 4 Axes>"
      ]
     },
     "metadata": {},
     "output_type": "display_data"
    }
   ],
   "source": [
    "df[['age','bmi','children','charges']].hist(bins=30, figsize=(10,10), color='blue')\n",
    "plt.show()"
   ]
  },
  {
   "cell_type": "code",
   "execution_count": 15,
   "id": "1af7c92a",
   "metadata": {
    "execution": {
     "iopub.execute_input": "2022-07-11T05:48:22.158461Z",
     "iopub.status.busy": "2022-07-11T05:48:22.157722Z",
     "iopub.status.idle": "2022-07-11T05:48:22.170456Z",
     "shell.execute_reply": "2022-07-11T05:48:22.169668Z"
    },
    "id": "wWM538WPEeoc",
    "outputId": "1526bf6d-f31a-419c-d4f6-03e57e12d642",
    "papermill": {
     "duration": 0.02893,
     "end_time": "2022-07-11T05:48:22.172945",
     "exception": false,
     "start_time": "2022-07-11T05:48:22.144015",
     "status": "completed"
    },
    "tags": []
   },
   "outputs": [
    {
     "data": {
      "text/html": [
       "<div>\n",
       "<style scoped>\n",
       "    .dataframe tbody tr th:only-of-type {\n",
       "        vertical-align: middle;\n",
       "    }\n",
       "\n",
       "    .dataframe tbody tr th {\n",
       "        vertical-align: top;\n",
       "    }\n",
       "\n",
       "    .dataframe thead th {\n",
       "        text-align: right;\n",
       "    }\n",
       "</style>\n",
       "<table border=\"1\" class=\"dataframe\">\n",
       "  <thead>\n",
       "    <tr style=\"text-align: right;\">\n",
       "      <th></th>\n",
       "      <th>age</th>\n",
       "      <th>sex</th>\n",
       "      <th>bmi</th>\n",
       "      <th>children</th>\n",
       "      <th>smoker</th>\n",
       "      <th>region</th>\n",
       "      <th>charges</th>\n",
       "    </tr>\n",
       "  </thead>\n",
       "  <tbody>\n",
       "    <tr>\n",
       "      <th>0</th>\n",
       "      <td>19</td>\n",
       "      <td>female</td>\n",
       "      <td>27.900</td>\n",
       "      <td>0</td>\n",
       "      <td>yes</td>\n",
       "      <td>southwest</td>\n",
       "      <td>16884.92400</td>\n",
       "    </tr>\n",
       "    <tr>\n",
       "      <th>1</th>\n",
       "      <td>18</td>\n",
       "      <td>male</td>\n",
       "      <td>33.770</td>\n",
       "      <td>1</td>\n",
       "      <td>no</td>\n",
       "      <td>southeast</td>\n",
       "      <td>1725.55230</td>\n",
       "    </tr>\n",
       "    <tr>\n",
       "      <th>2</th>\n",
       "      <td>28</td>\n",
       "      <td>male</td>\n",
       "      <td>33.000</td>\n",
       "      <td>3</td>\n",
       "      <td>no</td>\n",
       "      <td>southeast</td>\n",
       "      <td>4449.46200</td>\n",
       "    </tr>\n",
       "    <tr>\n",
       "      <th>3</th>\n",
       "      <td>33</td>\n",
       "      <td>male</td>\n",
       "      <td>22.705</td>\n",
       "      <td>0</td>\n",
       "      <td>no</td>\n",
       "      <td>northwest</td>\n",
       "      <td>21984.47061</td>\n",
       "    </tr>\n",
       "    <tr>\n",
       "      <th>4</th>\n",
       "      <td>32</td>\n",
       "      <td>male</td>\n",
       "      <td>28.880</td>\n",
       "      <td>0</td>\n",
       "      <td>no</td>\n",
       "      <td>northwest</td>\n",
       "      <td>3866.85520</td>\n",
       "    </tr>\n",
       "  </tbody>\n",
       "</table>\n",
       "</div>"
      ],
      "text/plain": [
       "   age     sex     bmi  children smoker     region      charges\n",
       "0   19  female  27.900         0    yes  southwest  16884.92400\n",
       "1   18    male  33.770         1     no  southeast   1725.55230\n",
       "2   28    male  33.000         3     no  southeast   4449.46200\n",
       "3   33    male  22.705         0     no  northwest  21984.47061\n",
       "4   32    male  28.880         0     no  northwest   3866.85520"
      ]
     },
     "execution_count": 15,
     "metadata": {},
     "output_type": "execute_result"
    }
   ],
   "source": [
    "df.head()"
   ]
  },
  {
   "cell_type": "code",
   "execution_count": 16,
   "id": "0a9143e4",
   "metadata": {
    "execution": {
     "iopub.execute_input": "2022-07-11T05:48:22.199279Z",
     "iopub.status.busy": "2022-07-11T05:48:22.198851Z",
     "iopub.status.idle": "2022-07-11T05:48:22.210930Z",
     "shell.execute_reply": "2022-07-11T05:48:22.209983Z"
    },
    "id": "CMp4M-dvEgoC",
    "papermill": {
     "duration": 0.027941,
     "end_time": "2022-07-11T05:48:22.213248",
     "exception": false,
     "start_time": "2022-07-11T05:48:22.185307",
     "status": "completed"
    },
    "tags": []
   },
   "outputs": [],
   "source": [
    "df['sex'] = df['sex'].apply({'male':0, 'female':1}.get)\n",
    "df['smoker'] = df['smoker'].apply({'yes':1, 'no':0}.get)\n",
    "df['region'] = df['region'].apply({'southwest':1, 'southeast':2, 'northwest':3, 'northeast':4}.get)"
   ]
  },
  {
   "cell_type": "code",
   "execution_count": 17,
   "id": "d7d88e2c",
   "metadata": {
    "execution": {
     "iopub.execute_input": "2022-07-11T05:48:22.239713Z",
     "iopub.status.busy": "2022-07-11T05:48:22.239003Z",
     "iopub.status.idle": "2022-07-11T05:48:22.252143Z",
     "shell.execute_reply": "2022-07-11T05:48:22.251213Z"
    },
    "id": "JCie_n28Ei3q",
    "outputId": "58eeb3d2-9d81-4056-f064-b6b363af4f0e",
    "papermill": {
     "duration": 0.028586,
     "end_time": "2022-07-11T05:48:22.254143",
     "exception": false,
     "start_time": "2022-07-11T05:48:22.225557",
     "status": "completed"
    },
    "tags": []
   },
   "outputs": [
    {
     "data": {
      "text/html": [
       "<div>\n",
       "<style scoped>\n",
       "    .dataframe tbody tr th:only-of-type {\n",
       "        vertical-align: middle;\n",
       "    }\n",
       "\n",
       "    .dataframe tbody tr th {\n",
       "        vertical-align: top;\n",
       "    }\n",
       "\n",
       "    .dataframe thead th {\n",
       "        text-align: right;\n",
       "    }\n",
       "</style>\n",
       "<table border=\"1\" class=\"dataframe\">\n",
       "  <thead>\n",
       "    <tr style=\"text-align: right;\">\n",
       "      <th></th>\n",
       "      <th>age</th>\n",
       "      <th>sex</th>\n",
       "      <th>bmi</th>\n",
       "      <th>children</th>\n",
       "      <th>smoker</th>\n",
       "      <th>region</th>\n",
       "      <th>charges</th>\n",
       "    </tr>\n",
       "  </thead>\n",
       "  <tbody>\n",
       "    <tr>\n",
       "      <th>0</th>\n",
       "      <td>19</td>\n",
       "      <td>1</td>\n",
       "      <td>27.900</td>\n",
       "      <td>0</td>\n",
       "      <td>1</td>\n",
       "      <td>1</td>\n",
       "      <td>16884.92400</td>\n",
       "    </tr>\n",
       "    <tr>\n",
       "      <th>1</th>\n",
       "      <td>18</td>\n",
       "      <td>0</td>\n",
       "      <td>33.770</td>\n",
       "      <td>1</td>\n",
       "      <td>0</td>\n",
       "      <td>2</td>\n",
       "      <td>1725.55230</td>\n",
       "    </tr>\n",
       "    <tr>\n",
       "      <th>2</th>\n",
       "      <td>28</td>\n",
       "      <td>0</td>\n",
       "      <td>33.000</td>\n",
       "      <td>3</td>\n",
       "      <td>0</td>\n",
       "      <td>2</td>\n",
       "      <td>4449.46200</td>\n",
       "    </tr>\n",
       "    <tr>\n",
       "      <th>3</th>\n",
       "      <td>33</td>\n",
       "      <td>0</td>\n",
       "      <td>22.705</td>\n",
       "      <td>0</td>\n",
       "      <td>0</td>\n",
       "      <td>3</td>\n",
       "      <td>21984.47061</td>\n",
       "    </tr>\n",
       "    <tr>\n",
       "      <th>4</th>\n",
       "      <td>32</td>\n",
       "      <td>0</td>\n",
       "      <td>28.880</td>\n",
       "      <td>0</td>\n",
       "      <td>0</td>\n",
       "      <td>3</td>\n",
       "      <td>3866.85520</td>\n",
       "    </tr>\n",
       "  </tbody>\n",
       "</table>\n",
       "</div>"
      ],
      "text/plain": [
       "   age  sex     bmi  children  smoker  region      charges\n",
       "0   19    1  27.900         0       1       1  16884.92400\n",
       "1   18    0  33.770         1       0       2   1725.55230\n",
       "2   28    0  33.000         3       0       2   4449.46200\n",
       "3   33    0  22.705         0       0       3  21984.47061\n",
       "4   32    0  28.880         0       0       3   3866.85520"
      ]
     },
     "execution_count": 17,
     "metadata": {},
     "output_type": "execute_result"
    }
   ],
   "source": [
    "df.head()"
   ]
  },
  {
   "cell_type": "markdown",
   "id": "d574981c",
   "metadata": {
    "id": "NbjxmmCevig3",
    "papermill": {
     "duration": 0.012248,
     "end_time": "2022-07-11T05:48:22.278958",
     "exception": false,
     "start_time": "2022-07-11T05:48:22.266710",
     "status": "completed"
    },
    "tags": []
   },
   "source": [
    "# **Training & Testing Phase**"
   ]
  },
  {
   "cell_type": "code",
   "execution_count": 18,
   "id": "d5d4b6d8",
   "metadata": {
    "execution": {
     "iopub.execute_input": "2022-07-11T05:48:22.306791Z",
     "iopub.status.busy": "2022-07-11T05:48:22.305984Z",
     "iopub.status.idle": "2022-07-11T05:48:22.311973Z",
     "shell.execute_reply": "2022-07-11T05:48:22.311055Z"
    },
    "id": "y4xdnznmEvz-",
    "papermill": {
     "duration": 0.022012,
     "end_time": "2022-07-11T05:48:22.314221",
     "exception": false,
     "start_time": "2022-07-11T05:48:22.292209",
     "status": "completed"
    },
    "tags": []
   },
   "outputs": [],
   "source": [
    "X = df.drop(['charges', 'sex'], axis=1)\n",
    "y = df.charges"
   ]
  },
  {
   "cell_type": "code",
   "execution_count": 19,
   "id": "6e5d8f9a",
   "metadata": {
    "execution": {
     "iopub.execute_input": "2022-07-11T05:48:22.341313Z",
     "iopub.status.busy": "2022-07-11T05:48:22.340873Z",
     "iopub.status.idle": "2022-07-11T05:48:22.351287Z",
     "shell.execute_reply": "2022-07-11T05:48:22.349368Z"
    },
    "id": "gn76y79zEyaT",
    "outputId": "5fd52af9-5a1c-4dc1-a876-63da4f32f8ed",
    "papermill": {
     "duration": 0.026959,
     "end_time": "2022-07-11T05:48:22.353878",
     "exception": false,
     "start_time": "2022-07-11T05:48:22.326919",
     "status": "completed"
    },
    "tags": []
   },
   "outputs": [
    {
     "name": "stdout",
     "output_type": "stream",
     "text": [
      "X_train shape:  (936, 5)\n",
      "X_test shape:  (402, 5)\n",
      "y_train shpae:  (936,)\n",
      "y_test shape:  (402,)\n"
     ]
    }
   ],
   "source": [
    "X_train, X_test, y_train, y_test = train_test_split(X,y, test_size=0.3, random_state=42)\n",
    "print(\"X_train shape: \", X_train.shape)\n",
    "print(\"X_test shape: \", X_test.shape)\n",
    "print(\"y_train shpae: \", y_train.shape)\n",
    "print(\"y_test shape: \", y_test.shape)"
   ]
  },
  {
   "cell_type": "code",
   "execution_count": 20,
   "id": "96619619",
   "metadata": {
    "execution": {
     "iopub.execute_input": "2022-07-11T05:48:22.381429Z",
     "iopub.status.busy": "2022-07-11T05:48:22.380358Z",
     "iopub.status.idle": "2022-07-11T05:48:22.385882Z",
     "shell.execute_reply": "2022-07-11T05:48:22.384947Z"
    },
    "id": "QwrUHCcNE0wO",
    "papermill": {
     "duration": 0.021582,
     "end_time": "2022-07-11T05:48:22.388049",
     "exception": false,
     "start_time": "2022-07-11T05:48:22.366467",
     "status": "completed"
    },
    "tags": []
   },
   "outputs": [],
   "source": [
    "\n",
    "linreg = LinearRegression()"
   ]
  },
  {
   "cell_type": "code",
   "execution_count": 21,
   "id": "673a9220",
   "metadata": {
    "execution": {
     "iopub.execute_input": "2022-07-11T05:48:22.415273Z",
     "iopub.status.busy": "2022-07-11T05:48:22.414589Z",
     "iopub.status.idle": "2022-07-11T05:48:22.443624Z",
     "shell.execute_reply": "2022-07-11T05:48:22.442735Z"
    },
    "id": "p4FpzKFKE2kW",
    "papermill": {
     "duration": 0.045421,
     "end_time": "2022-07-11T05:48:22.446075",
     "exception": false,
     "start_time": "2022-07-11T05:48:22.400654",
     "status": "completed"
    },
    "tags": []
   },
   "outputs": [],
   "source": [
    "linreg.fit(X_train, y_train) #Fitting the data to the linera regression model\n",
    "pred = linreg.predict(X_test) #Storing the predicted value in pred variable , WE are doing the predication of x testdata"
   ]
  },
  {
   "cell_type": "code",
   "execution_count": 22,
   "id": "4f05f929",
   "metadata": {
    "execution": {
     "iopub.execute_input": "2022-07-11T05:48:22.473111Z",
     "iopub.status.busy": "2022-07-11T05:48:22.472425Z",
     "iopub.status.idle": "2022-07-11T05:48:22.476922Z",
     "shell.execute_reply": "2022-07-11T05:48:22.476009Z"
    },
    "id": "_HJDbYTYE4sA",
    "papermill": {
     "duration": 0.020962,
     "end_time": "2022-07-11T05:48:22.479592",
     "exception": false,
     "start_time": "2022-07-11T05:48:22.458630",
     "status": "completed"
    },
    "tags": []
   },
   "outputs": [],
   "source": [
    "from sklearn.metrics import r2_score"
   ]
  },
  {
   "cell_type": "code",
   "execution_count": 23,
   "id": "946803ab",
   "metadata": {
    "execution": {
     "iopub.execute_input": "2022-07-11T05:48:22.507013Z",
     "iopub.status.busy": "2022-07-11T05:48:22.506399Z",
     "iopub.status.idle": "2022-07-11T05:48:22.512604Z",
     "shell.execute_reply": "2022-07-11T05:48:22.511172Z"
    },
    "id": "Qz-YFJyEE6t0",
    "outputId": "5fe393f7-882f-4e4b-d8d6-fba5abe8fe24",
    "papermill": {
     "duration": 0.024266,
     "end_time": "2022-07-11T05:48:22.516319",
     "exception": false,
     "start_time": "2022-07-11T05:48:22.492053",
     "status": "completed"
    },
    "tags": []
   },
   "outputs": [
    {
     "name": "stdout",
     "output_type": "stream",
     "text": [
      "R2 score:  0.7697211527941855\n"
     ]
    }
   ],
   "source": [
    "print(\"R2 score: \",(r2_score(y_test, pred)))"
   ]
  },
  {
   "cell_type": "code",
   "execution_count": 24,
   "id": "3678de41",
   "metadata": {
    "execution": {
     "iopub.execute_input": "2022-07-11T05:48:22.544276Z",
     "iopub.status.busy": "2022-07-11T05:48:22.543233Z",
     "iopub.status.idle": "2022-07-11T05:48:22.741690Z",
     "shell.execute_reply": "2022-07-11T05:48:22.740601Z"
    },
    "id": "wZQofnCJE8hi",
    "outputId": "d5ccae5e-ea94-4efa-ef96-8bb87fce8394",
    "papermill": {
     "duration": 0.214971,
     "end_time": "2022-07-11T05:48:22.744193",
     "exception": false,
     "start_time": "2022-07-11T05:48:22.529222",
     "status": "completed"
    },
    "tags": []
   },
   "outputs": [
    {
     "data": {
      "image/png": "[encoded data removed]",
      "text/plain": [
       "<Figure size 432x288 with 1 Axes>"
      ]
     },
     "metadata": {},
     "output_type": "display_data"
    }
   ],
   "source": [
    "plt.scatter(y_test, pred)\n",
    "plt.xlabel('Y test')\n",
    "plt.ylabel('Y pred')\n",
    "plt.show()"
   ]
  },
  {
   "cell_type": "markdown",
   "id": "87b8940b",
   "metadata": {
    "id": "un9IeTvmwJSa",
    "papermill": {
     "duration": 0.012764,
     "end_time": "2022-07-11T05:48:22.770337",
     "exception": false,
     "start_time": "2022-07-11T05:48:22.757573",
     "status": "completed"
    },
    "tags": []
   },
   "source": [
    "# **Now we have trained our model . Now we test the new data**"
   ]
  },
  {
   "cell_type": "code",
   "execution_count": 25,
   "id": "6c57b637",
   "metadata": {
    "execution": {
     "iopub.execute_input": "2022-07-11T05:48:22.798623Z",
     "iopub.status.busy": "2022-07-11T05:48:22.797715Z",
     "iopub.status.idle": "2022-07-11T05:48:22.811160Z",
     "shell.execute_reply": "2022-07-11T05:48:22.810082Z"
    },
    "id": "lgltGlrLE-U8",
    "outputId": "4716e434-5a49-4415-fda3-ba46c6c91982",
    "papermill": {
     "duration": 0.030199,
     "end_time": "2022-07-11T05:48:22.813500",
     "exception": false,
     "start_time": "2022-07-11T05:48:22.783301",
     "status": "completed"
    },
    "tags": []
   },
   "outputs": [
    {
     "data": {
      "text/html": [
       "<div>\n",
       "<style scoped>\n",
       "    .dataframe tbody tr th:only-of-type {\n",
       "        vertical-align: middle;\n",
       "    }\n",
       "\n",
       "    .dataframe tbody tr th {\n",
       "        vertical-align: top;\n",
       "    }\n",
       "\n",
       "    .dataframe thead th {\n",
       "        text-align: right;\n",
       "    }\n",
       "</style>\n",
       "<table border=\"1\" class=\"dataframe\">\n",
       "  <thead>\n",
       "    <tr style=\"text-align: right;\">\n",
       "      <th></th>\n",
       "      <th>age</th>\n",
       "      <th>bmi</th>\n",
       "      <th>children</th>\n",
       "      <th>smoker</th>\n",
       "      <th>region</th>\n",
       "    </tr>\n",
       "  </thead>\n",
       "  <tbody>\n",
       "    <tr>\n",
       "      <th>0</th>\n",
       "      <td>50</td>\n",
       "      <td>25</td>\n",
       "      <td>2</td>\n",
       "      <td>0</td>\n",
       "      <td>2</td>\n",
       "    </tr>\n",
       "  </tbody>\n",
       "</table>\n",
       "</div>"
      ],
      "text/plain": [
       "   age  bmi  children  smoker  region\n",
       "0   50   25         2       0       2"
      ]
     },
     "execution_count": 25,
     "metadata": {},
     "output_type": "execute_result"
    }
   ],
   "source": [
    "data = {'age':50, 'bmi':25, 'children':2, 'smoker':0, 'region':2} #Sample data\n",
    "index = [0] #Setting the data at index 0\n",
    "cust_df = pd.DataFrame(data, index)\n",
    "cust_df"
   ]
  },
  {
   "cell_type": "code",
   "execution_count": 26,
   "id": "c5a7b716",
   "metadata": {
    "execution": {
     "iopub.execute_input": "2022-07-11T05:48:22.842209Z",
     "iopub.status.busy": "2022-07-11T05:48:22.841817Z",
     "iopub.status.idle": "2022-07-11T05:48:22.850111Z",
     "shell.execute_reply": "2022-07-11T05:48:22.848898Z"
    },
    "id": "I0NE5dAxFAjW",
    "outputId": "75b76952-820e-4666-fba3-abc129d57619",
    "papermill": {
     "duration": 0.025425,
     "end_time": "2022-07-11T05:48:22.852541",
     "exception": false,
     "start_time": "2022-07-11T05:48:22.827116",
     "status": "completed"
    },
    "tags": []
   },
   "outputs": [
    {
     "name": "stdout",
     "output_type": "stream",
     "text": [
      "The medical insurance cost of the new customer is:  [9579.86504857]\n"
     ]
    }
   ],
   "source": [
    "cost_pred = linreg.predict(cust_df)\n",
    "print(\"The medical insurance cost of the new customer is: \", cost_pred)"
   ]
  },
  {
   "cell_type": "code",
   "execution_count": 27,
   "id": "7f194220",
   "metadata": {
    "execution": {
     "iopub.execute_input": "2022-07-11T05:48:22.880661Z",
     "iopub.status.busy": "2022-07-11T05:48:22.880268Z",
     "iopub.status.idle": "2022-07-11T05:48:22.894572Z",
     "shell.execute_reply": "2022-07-11T05:48:22.893173Z"
    },
    "id": "hHtElWrDFCxU",
    "outputId": "aae44103-39cd-48a0-98f3-483885078c95",
    "papermill": {
     "duration": 0.031084,
     "end_time": "2022-07-11T05:48:22.896929",
     "exception": false,
     "start_time": "2022-07-11T05:48:22.865845",
     "status": "completed"
    },
    "tags": []
   },
   "outputs": [
    {
     "data": {
      "text/html": [
       "<div>\n",
       "<style scoped>\n",
       "    .dataframe tbody tr th:only-of-type {\n",
       "        vertical-align: middle;\n",
       "    }\n",
       "\n",
       "    .dataframe tbody tr th {\n",
       "        vertical-align: top;\n",
       "    }\n",
       "\n",
       "    .dataframe thead th {\n",
       "        text-align: right;\n",
       "    }\n",
       "</style>\n",
       "<table border=\"1\" class=\"dataframe\">\n",
       "  <thead>\n",
       "    <tr style=\"text-align: right;\">\n",
       "      <th></th>\n",
       "      <th>age</th>\n",
       "      <th>bmi</th>\n",
       "      <th>children</th>\n",
       "      <th>smoker</th>\n",
       "      <th>region</th>\n",
       "    </tr>\n",
       "  </thead>\n",
       "  <tbody>\n",
       "    <tr>\n",
       "      <th>0</th>\n",
       "      <td>50</td>\n",
       "      <td>25</td>\n",
       "      <td>2</td>\n",
       "      <td>1</td>\n",
       "      <td>2</td>\n",
       "    </tr>\n",
       "  </tbody>\n",
       "</table>\n",
       "</div>"
      ],
      "text/plain": [
       "   age  bmi  children  smoker  region\n",
       "0   50   25         2       1       2"
      ]
     },
     "execution_count": 27,
     "metadata": {},
     "output_type": "execute_result"
    }
   ],
   "source": [
    "# Another Data (where we have a smoker)\n",
    "data = {'age':50, 'bmi':25, 'children':2, 'smoker':1, 'region':2} #Sample data\n",
    "index = [0] #Setting the data at index 0\n",
    "cust_df = pd.DataFrame(data, index)\n",
    "cust_df"
   ]
  },
  {
   "cell_type": "code",
   "execution_count": 28,
   "id": "11401a44",
   "metadata": {
    "execution": {
     "iopub.execute_input": "2022-07-11T05:48:22.926508Z",
     "iopub.status.busy": "2022-07-11T05:48:22.926075Z",
     "iopub.status.idle": "2022-07-11T05:48:22.934070Z",
     "shell.execute_reply": "2022-07-11T05:48:22.932865Z"
    },
    "id": "wf3bdOUlxHgn",
    "outputId": "71617e12-ac5c-4d55-a3e2-551a3ff87da2",
    "papermill": {
     "duration": 0.027393,
     "end_time": "2022-07-11T05:48:22.938252",
     "exception": false,
     "start_time": "2022-07-11T05:48:22.910859",
     "status": "completed"
    },
    "tags": []
   },
   "outputs": [
    {
     "name": "stdout",
     "output_type": "stream",
     "text": [
      "The medical insurance cost of the new customer is:  [33206.92756082]\n"
     ]
    }
   ],
   "source": [
    "cost_pred = linreg.predict(cust_df)\n",
    "print(\"The medical insurance cost of the new customer is: \", cost_pred)"
   ]
  }
 ],
 "metadata": {
  "kernelspec": {
   "display_name": "Python 3",
   "language": "python",
   "name": "python3"
  },
  "language_info": {
   "codemirror_mode": {
    "name": "ipython",
    "version": 3
   },
   "file_extension": ".py",
   "mimetype": "text/x-python",
   "name": "python",
   "nbconvert_exporter": "python",
   "pygments_lexer": "ipython3",
   "version": "3.7.12"
  },
  "papermill": {
   "default_parameters": {},
   "duration": 16.298248,
   "end_time": "2022-07-11T05:48:23.774739",
   "environment_variables": {},
   "exception": null,
   "input_path": "__notebook__.ipynb",
   "output_path": "__notebook__.ipynb",
   "parameters": {},
   "start_time": "2022-07-11T05:48:07.476491",
   "version": "2.3.4"
  }
 },
 "nbformat": 4,
 "nbformat_minor": 5
}
