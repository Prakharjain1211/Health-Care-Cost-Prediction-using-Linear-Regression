{
 "cells": [
  {
   "cell_type": "markdown",
   "id": "877f3d5a",
   "metadata": {
    "id": "view-in-github",
    "papermill": {
     "duration": 0.010243,
     "end_time": "2022-07-11T05:52:46.135606",
     "exception": false,
     "start_time": "2022-07-11T05:52:46.125363",
     "status": "completed"
    },
    "tags": []
   },
   "source": [
    "<a href=\"https://colab.research.google.com/github/Prakharjain1211/Health-Care-Cost-Prediction-using-Linear-Regression/blob/main/Medical_health_Insurance_prediction.ipynb\" target=\"_parent\"><img src=\"https://colab.research.google.com/assets/colab-badge.svg\" alt=\"Open In Colab\"/></a>"
   ]
  },
  {
   "cell_type": "markdown",
   "id": "6eba2aa3",
   "metadata": {
    "papermill": {
     "duration": 0.008629,
     "end_time": "2022-07-11T05:52:46.153410",
     "exception": false,
     "start_time": "2022-07-11T05:52:46.144781",
     "status": "completed"
    },
    "tags": []
   },
   "source": [
    "**This is a medical insurance cost prediction model that uses a linear regression algorithm to predict the medical insurance charges of a person based on the given data. The dataset usedis available on Kaggle and GitHub.**\n",
    "\n",
    "https://www.kaggle.com/datasets/annetxu/health-insurance-cost-prediction ."
   ]
  },
  {
   "cell_type": "code",
   "execution_count": 1,
   "id": "71c1d769",
   "metadata": {
    "execution": {
     "iopub.execute_input": "2022-07-11T05:52:46.173976Z",
     "iopub.status.busy": "2022-07-11T05:52:46.173353Z",
     "iopub.status.idle": "2022-07-11T05:52:47.770711Z",
     "shell.execute_reply": "2022-07-11T05:52:47.769474Z"
    },
    "id": "o2CPLEnGDppe",
    "papermill": {
     "duration": 1.611389,
     "end_time": "2022-07-11T05:52:47.773722",
     "exception": false,
     "start_time": "2022-07-11T05:52:46.162333",
     "status": "completed"
    },
    "tags": []
   },
   "outputs": [],
   "source": [
    "# Importing the required files\n",
    "\n",
    "import pandas as pd                                  # for data Manipulation\n",
    "import seaborn as sns                                # for visualization\n",
    "import matplotlib.pyplot as plt                      # for ploting the graphs and charts\n",
    "from matplotlib import style\n",
    "from sklearn.model_selection import train_test_split\n",
    "from sklearn.linear_model import LinearRegression"
   ]
  },
  {
   "cell_type": "code",
   "execution_count": 2,
   "id": "40a66d1f",
   "metadata": {
    "execution": {
     "iopub.execute_input": "2022-07-11T05:52:47.794098Z",
     "iopub.status.busy": "2022-07-11T05:52:47.793660Z",
     "iopub.status.idle": "2022-07-11T05:52:47.814454Z",
     "shell.execute_reply": "2022-07-11T05:52:47.813373Z"
    },
    "id": "exOUXt8ND4Yh",
    "papermill": {
     "duration": 0.034576,
     "end_time": "2022-07-11T05:52:47.817334",
     "exception": false,
     "start_time": "2022-07-11T05:52:47.782758",
     "status": "completed"
    },
    "tags": []
   },
   "outputs": [],
   "source": [
    "# Reading the csv file\n",
    "df=pd.read_csv(\"../input/health-insurance-cost-prediction/insurance.csv\") #Actual Data"
   ]
  },
  {
   "cell_type": "markdown",
   "id": "30777ba1",
   "metadata": {
    "id": "pDR9VImmxZhk",
    "papermill": {
     "duration": 0.008999,
     "end_time": "2022-07-11T05:52:47.835891",
     "exception": false,
     "start_time": "2022-07-11T05:52:47.826892",
     "status": "completed"
    },
    "tags": []
   },
   "source": [
    "# **Exploration of the data**"
   ]
  },
  {
   "cell_type": "code",
   "execution_count": 3,
   "id": "ab81c347",
   "metadata": {
    "execution": {
     "iopub.execute_input": "2022-07-11T05:52:47.855716Z",
     "iopub.status.busy": "2022-07-11T05:52:47.855270Z",
     "iopub.status.idle": "2022-07-11T05:52:47.877671Z",
     "shell.execute_reply": "2022-07-11T05:52:47.876778Z"
    },
    "id": "73GiAT_zD6MZ",
    "outputId": "73592b84-dadf-4567-e917-1813ac0e2a19",
    "papermill": {
     "duration": 0.035167,
     "end_time": "2022-07-11T05:52:47.880011",
     "exception": false,
     "start_time": "2022-07-11T05:52:47.844844",
     "status": "completed"
    },
    "tags": []
   },
   "outputs": [
    {
     "data": {
      "text/html": [
       "<div>\n",
       "<style scoped>\n",
       "    .dataframe tbody tr th:only-of-type {\n",
       "        vertical-align: middle;\n",
       "    }\n",
       "\n",
       "    .dataframe tbody tr th {\n",
       "        vertical-align: top;\n",
       "    }\n",
       "\n",
       "    .dataframe thead th {\n",
       "        text-align: right;\n",
       "    }\n",
       "</style>\n",
       "<table border=\"1\" class=\"dataframe\">\n",
       "  <thead>\n",
       "    <tr style=\"text-align: right;\">\n",
       "      <th></th>\n",
       "      <th>age</th>\n",
       "      <th>sex</th>\n",
       "      <th>bmi</th>\n",
       "      <th>children</th>\n",
       "      <th>smoker</th>\n",
       "      <th>region</th>\n",
       "      <th>charges</th>\n",
       "    </tr>\n",
       "  </thead>\n",
       "  <tbody>\n",
       "    <tr>\n",
       "      <th>0</th>\n",
       "      <td>19</td>\n",
       "      <td>female</td>\n",
       "      <td>27.900</td>\n",
       "      <td>0</td>\n",
       "      <td>yes</td>\n",
       "      <td>southwest</td>\n",
       "      <td>16884.92400</td>\n",
       "    </tr>\n",
       "    <tr>\n",
       "      <th>1</th>\n",
       "      <td>18</td>\n",
       "      <td>male</td>\n",
       "      <td>33.770</td>\n",
       "      <td>1</td>\n",
       "      <td>no</td>\n",
       "      <td>southeast</td>\n",
       "      <td>1725.55230</td>\n",
       "    </tr>\n",
       "    <tr>\n",
       "      <th>2</th>\n",
       "      <td>28</td>\n",
       "      <td>male</td>\n",
       "      <td>33.000</td>\n",
       "      <td>3</td>\n",
       "      <td>no</td>\n",
       "      <td>southeast</td>\n",
       "      <td>4449.46200</td>\n",
       "    </tr>\n",
       "    <tr>\n",
       "      <th>3</th>\n",
       "      <td>33</td>\n",
       "      <td>male</td>\n",
       "      <td>22.705</td>\n",
       "      <td>0</td>\n",
       "      <td>no</td>\n",
       "      <td>northwest</td>\n",
       "      <td>21984.47061</td>\n",
       "    </tr>\n",
       "    <tr>\n",
       "      <th>4</th>\n",
       "      <td>32</td>\n",
       "      <td>male</td>\n",
       "      <td>28.880</td>\n",
       "      <td>0</td>\n",
       "      <td>no</td>\n",
       "      <td>northwest</td>\n",
       "      <td>3866.85520</td>\n",
       "    </tr>\n",
       "  </tbody>\n",
       "</table>\n",
       "</div>"
      ],
      "text/plain": [
       "   age     sex     bmi  children smoker     region      charges\n",
       "0   19  female  27.900         0    yes  southwest  16884.92400\n",
       "1   18    male  33.770         1     no  southeast   1725.55230\n",
       "2   28    male  33.000         3     no  southeast   4449.46200\n",
       "3   33    male  22.705         0     no  northwest  21984.47061\n",
       "4   32    male  28.880         0     no  northwest   3866.85520"
      ]
     },
     "execution_count": 3,
     "metadata": {},
     "output_type": "execute_result"
    }
   ],
   "source": [
    "df.head()"
   ]
  },
  {
   "cell_type": "code",
   "execution_count": 4,
   "id": "e80a0010",
   "metadata": {
    "execution": {
     "iopub.execute_input": "2022-07-11T05:52:47.900892Z",
     "iopub.status.busy": "2022-07-11T05:52:47.900160Z",
     "iopub.status.idle": "2022-07-11T05:52:47.906079Z",
     "shell.execute_reply": "2022-07-11T05:52:47.905264Z"
    },
    "id": "dYI21tlBEG1Z",
    "outputId": "aa9c2ceb-2fa4-446a-8c09-32de4a1d769d",
    "papermill": {
     "duration": 0.018843,
     "end_time": "2022-07-11T05:52:47.908225",
     "exception": false,
     "start_time": "2022-07-11T05:52:47.889382",
     "status": "completed"
    },
    "tags": []
   },
   "outputs": [
    {
     "data": {
      "text/plain": [
       "(1338, 7)"
      ]
     },
     "execution_count": 4,
     "metadata": {},
     "output_type": "execute_result"
    }
   ],
   "source": [
    "df.shape"
   ]
  },
  {
   "cell_type": "code",
   "execution_count": 5,
   "id": "8e20fa64",
   "metadata": {
    "execution": {
     "iopub.execute_input": "2022-07-11T05:52:47.929569Z",
     "iopub.status.busy": "2022-07-11T05:52:47.928908Z",
     "iopub.status.idle": "2022-07-11T05:52:47.955214Z",
     "shell.execute_reply": "2022-07-11T05:52:47.954314Z"
    },
    "id": "NA-pvhKaEIrG",
    "outputId": "70631aa2-26ef-45aa-c81c-42e2a0b7d4e9",
    "papermill": {
     "duration": 0.040083,
     "end_time": "2022-07-11T05:52:47.957820",
     "exception": false,
     "start_time": "2022-07-11T05:52:47.917737",
     "status": "completed"
    },
    "tags": []
   },
   "outputs": [
    {
     "name": "stdout",
     "output_type": "stream",
     "text": [
      "<class 'pandas.core.frame.DataFrame'>\n",
      "RangeIndex: 1338 entries, 0 to 1337\n",
      "Data columns (total 7 columns):\n",
      " #   Column    Non-Null Count  Dtype  \n",
      "---  ------    --------------  -----  \n",
      " 0   age       1338 non-null   int64  \n",
      " 1   sex       1338 non-null   object \n",
      " 2   bmi       1338 non-null   float64\n",
      " 3   children  1338 non-null   int64  \n",
      " 4   smoker    1338 non-null   object \n",
      " 5   region    1338 non-null   object \n",
      " 6   charges   1338 non-null   float64\n",
      "dtypes: float64(2), int64(2), object(3)\n",
      "memory usage: 73.3+ KB\n"
     ]
    }
   ],
   "source": [
    "df.info()"
   ]
  },
  {
   "cell_type": "code",
   "execution_count": 6,
   "id": "83d92bee",
   "metadata": {
    "execution": {
     "iopub.execute_input": "2022-07-11T05:52:47.979334Z",
     "iopub.status.busy": "2022-07-11T05:52:47.978622Z",
     "iopub.status.idle": "2022-07-11T05:52:47.988124Z",
     "shell.execute_reply": "2022-07-11T05:52:47.987012Z"
    },
    "id": "E4zFJJpDEKQp",
    "outputId": "4eb62e3b-f735-4f32-bbb5-7ff855f17994",
    "papermill": {
     "duration": 0.022945,
     "end_time": "2022-07-11T05:52:47.990395",
     "exception": false,
     "start_time": "2022-07-11T05:52:47.967450",
     "status": "completed"
    },
    "tags": []
   },
   "outputs": [
    {
     "data": {
      "text/plain": [
       "age         0\n",
       "sex         0\n",
       "bmi         0\n",
       "children    0\n",
       "smoker      0\n",
       "region      0\n",
       "charges     0\n",
       "dtype: int64"
      ]
     },
     "execution_count": 6,
     "metadata": {},
     "output_type": "execute_result"
    }
   ],
   "source": [
    "df.isnull().sum()"
   ]
  },
  {
   "cell_type": "code",
   "execution_count": 7,
   "id": "bddad0c5",
   "metadata": {
    "execution": {
     "iopub.execute_input": "2022-07-11T05:52:48.011952Z",
     "iopub.status.busy": "2022-07-11T05:52:48.011209Z",
     "iopub.status.idle": "2022-07-11T05:52:48.017889Z",
     "shell.execute_reply": "2022-07-11T05:52:48.017017Z"
    },
    "id": "8rpXm3s9EMTn",
    "outputId": "4bc1404a-8c78-441e-c714-03bec92cbba6",
    "papermill": {
     "duration": 0.019973,
     "end_time": "2022-07-11T05:52:48.020156",
     "exception": false,
     "start_time": "2022-07-11T05:52:48.000183",
     "status": "completed"
    },
    "tags": []
   },
   "outputs": [
    {
     "data": {
      "text/plain": [
       "Index(['age', 'sex', 'bmi', 'children', 'smoker', 'region', 'charges'], dtype='object')"
      ]
     },
     "execution_count": 7,
     "metadata": {},
     "output_type": "execute_result"
    }
   ],
   "source": [
    "df.columns"
   ]
  },
  {
   "cell_type": "code",
   "execution_count": 8,
   "id": "8c315000",
   "metadata": {
    "execution": {
     "iopub.execute_input": "2022-07-11T05:52:48.042766Z",
     "iopub.status.busy": "2022-07-11T05:52:48.042042Z",
     "iopub.status.idle": "2022-07-11T05:52:48.069230Z",
     "shell.execute_reply": "2022-07-11T05:52:48.068442Z"
    },
    "id": "K2I9H6_WEPPO",
    "outputId": "572f12c1-babc-4efa-a0d5-9a273ce8a9a1",
    "papermill": {
     "duration": 0.041552,
     "end_time": "2022-07-11T05:52:48.071478",
     "exception": false,
     "start_time": "2022-07-11T05:52:48.029926",
     "status": "completed"
    },
    "tags": []
   },
   "outputs": [
    {
     "data": {
      "text/html": [
       "<div>\n",
       "<style scoped>\n",
       "    .dataframe tbody tr th:only-of-type {\n",
       "        vertical-align: middle;\n",
       "    }\n",
       "\n",
       "    .dataframe tbody tr th {\n",
       "        vertical-align: top;\n",
       "    }\n",
       "\n",
       "    .dataframe thead th {\n",
       "        text-align: right;\n",
       "    }\n",
       "</style>\n",
       "<table border=\"1\" class=\"dataframe\">\n",
       "  <thead>\n",
       "    <tr style=\"text-align: right;\">\n",
       "      <th></th>\n",
       "      <th>age</th>\n",
       "      <th>bmi</th>\n",
       "      <th>children</th>\n",
       "      <th>charges</th>\n",
       "    </tr>\n",
       "  </thead>\n",
       "  <tbody>\n",
       "    <tr>\n",
       "      <th>count</th>\n",
       "      <td>1338.000000</td>\n",
       "      <td>1338.000000</td>\n",
       "      <td>1338.000000</td>\n",
       "      <td>1338.000000</td>\n",
       "    </tr>\n",
       "    <tr>\n",
       "      <th>mean</th>\n",
       "      <td>39.207025</td>\n",
       "      <td>30.663397</td>\n",
       "      <td>1.094918</td>\n",
       "      <td>13270.422265</td>\n",
       "    </tr>\n",
       "    <tr>\n",
       "      <th>std</th>\n",
       "      <td>14.049960</td>\n",
       "      <td>6.098187</td>\n",
       "      <td>1.205493</td>\n",
       "      <td>12110.011237</td>\n",
       "    </tr>\n",
       "    <tr>\n",
       "      <th>min</th>\n",
       "      <td>18.000000</td>\n",
       "      <td>15.960000</td>\n",
       "      <td>0.000000</td>\n",
       "      <td>1121.873900</td>\n",
       "    </tr>\n",
       "    <tr>\n",
       "      <th>25%</th>\n",
       "      <td>27.000000</td>\n",
       "      <td>26.296250</td>\n",
       "      <td>0.000000</td>\n",
       "      <td>4740.287150</td>\n",
       "    </tr>\n",
       "    <tr>\n",
       "      <th>50%</th>\n",
       "      <td>39.000000</td>\n",
       "      <td>30.400000</td>\n",
       "      <td>1.000000</td>\n",
       "      <td>9382.033000</td>\n",
       "    </tr>\n",
       "    <tr>\n",
       "      <th>75%</th>\n",
       "      <td>51.000000</td>\n",
       "      <td>34.693750</td>\n",
       "      <td>2.000000</td>\n",
       "      <td>16639.912515</td>\n",
       "    </tr>\n",
       "    <tr>\n",
       "      <th>max</th>\n",
       "      <td>64.000000</td>\n",
       "      <td>53.130000</td>\n",
       "      <td>5.000000</td>\n",
       "      <td>63770.428010</td>\n",
       "    </tr>\n",
       "  </tbody>\n",
       "</table>\n",
       "</div>"
      ],
      "text/plain": [
       "               age          bmi     children       charges\n",
       "count  1338.000000  1338.000000  1338.000000   1338.000000\n",
       "mean     39.207025    30.663397     1.094918  13270.422265\n",
       "std      14.049960     6.098187     1.205493  12110.011237\n",
       "min      18.000000    15.960000     0.000000   1121.873900\n",
       "25%      27.000000    26.296250     0.000000   4740.287150\n",
       "50%      39.000000    30.400000     1.000000   9382.033000\n",
       "75%      51.000000    34.693750     2.000000  16639.912515\n",
       "max      64.000000    53.130000     5.000000  63770.428010"
      ]
     },
     "execution_count": 8,
     "metadata": {},
     "output_type": "execute_result"
    }
   ],
   "source": [
    "df.describe()"
   ]
  },
  {
   "cell_type": "code",
   "execution_count": 9,
   "id": "b8ab9f0f",
   "metadata": {
    "execution": {
     "iopub.execute_input": "2022-07-11T05:52:48.093910Z",
     "iopub.status.busy": "2022-07-11T05:52:48.093210Z",
     "iopub.status.idle": "2022-07-11T05:52:48.265621Z",
     "shell.execute_reply": "2022-07-11T05:52:48.264767Z"
    },
    "id": "9W8HnjOsEQiT",
    "outputId": "8d8bd6f8-f201-44d5-f0d1-de3ea2ba78e9",
    "papermill": {
     "duration": 0.186311,
     "end_time": "2022-07-11T05:52:48.267955",
     "exception": false,
     "start_time": "2022-07-11T05:52:48.081644",
     "status": "completed"
    },
    "tags": []
   },
   "outputs": [
    {
     "data": {
      "image/png": "[encoded data removed]",
      "text/plain": [
       "<Figure size 360x360 with 1 Axes>"
      ]
     },
     "metadata": {
      "needs_background": "light"
     },
     "output_type": "display_data"
    }
   ],
   "source": [
    "plt.figure(figsize=(5,5))\n",
    "style.use('ggplot')\n",
    "sns.countplot(x='sex', data=df)\n",
    "plt.title('Gender Distribution')\n",
    "plt.show()"
   ]
  },
  {
   "cell_type": "code",
   "execution_count": 10,
   "id": "cf079a85",
   "metadata": {
    "execution": {
     "iopub.execute_input": "2022-07-11T05:52:48.291111Z",
     "iopub.status.busy": "2022-07-11T05:52:48.290076Z",
     "iopub.status.idle": "2022-07-11T05:52:48.454712Z",
     "shell.execute_reply": "2022-07-11T05:52:48.453461Z"
    },
    "id": "hqGFO1xKESkN",
    "outputId": "dddec662-8004-4340-b479-70061b198b3f",
    "papermill": {
     "duration": 0.178572,
     "end_time": "2022-07-11T05:52:48.457060",
     "exception": false,
     "start_time": "2022-07-11T05:52:48.278488",
     "status": "completed"
    },
    "tags": []
   },
   "outputs": [
    {
     "data": {
      "image/png": "[encoded data removed]",
      "text/plain": [
       "<Figure size 360x360 with 1 Axes>"
      ]
     },
     "metadata": {},
     "output_type": "display_data"
    }
   ],
   "source": [
    "plt.figure(figsize=(5,5))\n",
    "sns.countplot(x='smoker', data=df)\n",
    "plt.title('Smoker')\n",
    "plt.show()"
   ]
  },
  {
   "cell_type": "code",
   "execution_count": 11,
   "id": "35ab74be",
   "metadata": {
    "execution": {
     "iopub.execute_input": "2022-07-11T05:52:48.480282Z",
     "iopub.status.busy": "2022-07-11T05:52:48.479848Z",
     "iopub.status.idle": "2022-07-11T05:52:48.639506Z",
     "shell.execute_reply": "2022-07-11T05:52:48.638666Z"
    },
    "id": "LJWrkVQ9EUWc",
    "outputId": "2b9e6b5e-19f9-4356-99f4-ea89d7b8054e",
    "papermill": {
     "duration": 0.174005,
     "end_time": "2022-07-11T05:52:48.641746",
     "exception": false,
     "start_time": "2022-07-11T05:52:48.467741",
     "status": "completed"
    },
    "tags": []
   },
   "outputs": [
    {
     "data": {
      "image/png": "[encoded data removed]",
      "text/plain": [
       "<Figure size 360x360 with 1 Axes>"
      ]
     },
     "metadata": {},
     "output_type": "display_data"
    }
   ],
   "source": [
    "plt.figure(figsize=(5,5))\n",
    "sns.countplot(x='smoker', data=df)\n",
    "plt.title('Smoker')\n",
    "plt.show()"
   ]
  },
  {
   "cell_type": "code",
   "execution_count": 12,
   "id": "c949eb2f",
   "metadata": {
    "execution": {
     "iopub.execute_input": "2022-07-11T05:52:48.665254Z",
     "iopub.status.busy": "2022-07-11T05:52:48.664818Z",
     "iopub.status.idle": "2022-07-11T05:52:49.000467Z",
     "shell.execute_reply": "2022-07-11T05:52:48.999612Z"
    },
    "id": "zxhvVUu7EWxI",
    "outputId": "6adfa00d-ab38-4a06-cf3c-58a14e6f351e",
    "papermill": {
     "duration": 0.3505,
     "end_time": "2022-07-11T05:52:49.002901",
     "exception": false,
     "start_time": "2022-07-11T05:52:48.652401",
     "status": "completed"
    },
    "tags": []
   },
   "outputs": [
    {
     "data": {
      "text/plain": [
       "Text(0.5, 1.0, 'Cost vs Region')"
      ]
     },
     "execution_count": 12,
     "metadata": {},
     "output_type": "execute_result"
    },
    {
     "data": {
      "image/png": "[encoded data removed]",
      "text/plain": [
       "<Figure size 360x360 with 1 Axes>"
      ]
     },
     "metadata": {},
     "output_type": "display_data"
    }
   ],
   "source": [
    "plt.figure(figsize=(5,5))\n",
    "sns.barplot(x='region', y='charges', data=df)\n",
    "plt.title('Cost vs Region')"
   ]
  },
  {
   "cell_type": "code",
   "execution_count": 13,
   "id": "d20c8c5e",
   "metadata": {
    "execution": {
     "iopub.execute_input": "2022-07-11T05:52:49.028220Z",
     "iopub.status.busy": "2022-07-11T05:52:49.027694Z",
     "iopub.status.idle": "2022-07-11T05:52:49.326058Z",
     "shell.execute_reply": "2022-07-11T05:52:49.324830Z"
    },
    "id": "0A-udboKEYmo",
    "outputId": "2165f993-3146-4778-b290-0e8e108bf516",
    "papermill": {
     "duration": 0.314241,
     "end_time": "2022-07-11T05:52:49.328748",
     "exception": false,
     "start_time": "2022-07-11T05:52:49.014507",
     "status": "completed"
    },
    "tags": []
   },
   "outputs": [
    {
     "data": {
      "text/plain": [
       "Text(0.5, 1.0, 'Charges for smokers')"
      ]
     },
     "execution_count": 13,
     "metadata": {},
     "output_type": "execute_result"
    },
    {
     "data": {
      "image/png": "[encoded data removed]",
      "text/plain": [
       "<Figure size 360x360 with 1 Axes>"
      ]
     },
     "metadata": {},
     "output_type": "display_data"
    }
   ],
   "source": [
    "plt.figure(figsize=(5,5))\n",
    "sns.barplot(x='sex', y='charges',hue='smoker', data=df)\n",
    "plt.title('Charges for smokers')"
   ]
  },
  {
   "cell_type": "code",
   "execution_count": 14,
   "id": "f3110a14",
   "metadata": {
    "execution": {
     "iopub.execute_input": "2022-07-11T05:52:49.354644Z",
     "iopub.status.busy": "2022-07-11T05:52:49.353623Z",
     "iopub.status.idle": "2022-07-11T05:52:50.052057Z",
     "shell.execute_reply": "2022-07-11T05:52:50.050979Z"
    },
    "id": "2pkw38VBEaZ2",
    "outputId": "e1785de4-e472-4528-9b3b-464040f8ec42",
    "papermill": {
     "duration": 0.714128,
     "end_time": "2022-07-11T05:52:50.054751",
     "exception": false,
     "start_time": "2022-07-11T05:52:49.340623",
     "status": "completed"
    },
    "tags": []
   },
   "outputs": [
    {
     "data": {
      "image/png": "[encoded data removed]",
      "text/plain": [
       "<Figure size 720x720 with 4 Axes>"
      ]
     },
     "metadata": {},
     "output_type": "display_data"
    }
   ],
   "source": [
    "df[['age','bmi','children','charges']].hist(bins=30, figsize=(10,10), color='blue')\n",
    "plt.show()"
   ]
  },
  {
   "cell_type": "code",
   "execution_count": 15,
   "id": "8365062f",
   "metadata": {
    "execution": {
     "iopub.execute_input": "2022-07-11T05:52:50.082028Z",
     "iopub.status.busy": "2022-07-11T05:52:50.081069Z",
     "iopub.status.idle": "2022-07-11T05:52:50.095102Z",
     "shell.execute_reply": "2022-07-11T05:52:50.093991Z"
    },
    "id": "wWM538WPEeoc",
    "outputId": "1526bf6d-f31a-419c-d4f6-03e57e12d642",
    "papermill": {
     "duration": 0.0302,
     "end_time": "2022-07-11T05:52:50.097420",
     "exception": false,
     "start_time": "2022-07-11T05:52:50.067220",
     "status": "completed"
    },
    "tags": []
   },
   "outputs": [
    {
     "data": {
      "text/html": [
       "<div>\n",
       "<style scoped>\n",
       "    .dataframe tbody tr th:only-of-type {\n",
       "        vertical-align: middle;\n",
       "    }\n",
       "\n",
       "    .dataframe tbody tr th {\n",
       "        vertical-align: top;\n",
       "    }\n",
       "\n",
       "    .dataframe thead th {\n",
       "        text-align: right;\n",
       "    }\n",
       "</style>\n",
       "<table border=\"1\" class=\"dataframe\">\n",
       "  <thead>\n",
       "    <tr style=\"text-align: right;\">\n",
       "      <th></th>\n",
       "      <th>age</th>\n",
       "      <th>sex</th>\n",
       "      <th>bmi</th>\n",
       "      <th>children</th>\n",
       "      <th>smoker</th>\n",
       "      <th>region</th>\n",
       "      <th>charges</th>\n",
       "    </tr>\n",
       "  </thead>\n",
       "  <tbody>\n",
       "    <tr>\n",
       "      <th>0</th>\n",
       "      <td>19</td>\n",
       "      <td>female</td>\n",
       "      <td>27.900</td>\n",
       "      <td>0</td>\n",
       "      <td>yes</td>\n",
       "      <td>southwest</td>\n",
       "      <td>16884.92400</td>\n",
       "    </tr>\n",
       "    <tr>\n",
       "      <th>1</th>\n",
       "      <td>18</td>\n",
       "      <td>male</td>\n",
       "      <td>33.770</td>\n",
       "      <td>1</td>\n",
       "      <td>no</td>\n",
       "      <td>southeast</td>\n",
       "      <td>1725.55230</td>\n",
       "    </tr>\n",
       "    <tr>\n",
       "      <th>2</th>\n",
       "      <td>28</td>\n",
       "      <td>male</td>\n",
       "      <td>33.000</td>\n",
       "      <td>3</td>\n",
       "      <td>no</td>\n",
       "      <td>southeast</td>\n",
       "      <td>4449.46200</td>\n",
       "    </tr>\n",
       "    <tr>\n",
       "      <th>3</th>\n",
       "      <td>33</td>\n",
       "      <td>male</td>\n",
       "      <td>22.705</td>\n",
       "      <td>0</td>\n",
       "      <td>no</td>\n",
       "      <td>northwest</td>\n",
       "      <td>21984.47061</td>\n",
       "    </tr>\n",
       "    <tr>\n",
       "      <th>4</th>\n",
       "      <td>32</td>\n",
       "      <td>male</td>\n",
       "      <td>28.880</td>\n",
       "      <td>0</td>\n",
       "      <td>no</td>\n",
       "      <td>northwest</td>\n",
       "      <td>3866.85520</td>\n",
       "    </tr>\n",
       "  </tbody>\n",
       "</table>\n",
       "</div>"
      ],
      "text/plain": [
       "   age     sex     bmi  children smoker     region      charges\n",
       "0   19  female  27.900         0    yes  southwest  16884.92400\n",
       "1   18    male  33.770         1     no  southeast   1725.55230\n",
       "2   28    male  33.000         3     no  southeast   4449.46200\n",
       "3   33    male  22.705         0     no  northwest  21984.47061\n",
       "4   32    male  28.880         0     no  northwest   3866.85520"
      ]
     },
     "execution_count": 15,
     "metadata": {},
     "output_type": "execute_result"
    }
   ],
   "source": [
    "df.head()"
   ]
  },
  {
   "cell_type": "code",
   "execution_count": 16,
   "id": "4fa07dad",
   "metadata": {
    "execution": {
     "iopub.execute_input": "2022-07-11T05:52:50.126309Z",
     "iopub.status.busy": "2022-07-11T05:52:50.124111Z",
     "iopub.status.idle": "2022-07-11T05:52:50.135497Z",
     "shell.execute_reply": "2022-07-11T05:52:50.134520Z"
    },
    "id": "CMp4M-dvEgoC",
    "papermill": {
     "duration": 0.027671,
     "end_time": "2022-07-11T05:52:50.138090",
     "exception": false,
     "start_time": "2022-07-11T05:52:50.110419",
     "status": "completed"
    },
    "tags": []
   },
   "outputs": [],
   "source": [
    "df['sex'] = df['sex'].apply({'male':0, 'female':1}.get)\n",
    "df['smoker'] = df['smoker'].apply({'yes':1, 'no':0}.get)\n",
    "df['region'] = df['region'].apply({'southwest':1, 'southeast':2, 'northwest':3, 'northeast':4}.get)"
   ]
  },
  {
   "cell_type": "code",
   "execution_count": 17,
   "id": "f9dd3663",
   "metadata": {
    "execution": {
     "iopub.execute_input": "2022-07-11T05:52:50.164860Z",
     "iopub.status.busy": "2022-07-11T05:52:50.164427Z",
     "iopub.status.idle": "2022-07-11T05:52:50.178046Z",
     "shell.execute_reply": "2022-07-11T05:52:50.177203Z"
    },
    "id": "JCie_n28Ei3q",
    "outputId": "58eeb3d2-9d81-4056-f064-b6b363af4f0e",
    "papermill": {
     "duration": 0.029387,
     "end_time": "2022-07-11T05:52:50.180028",
     "exception": false,
     "start_time": "2022-07-11T05:52:50.150641",
     "status": "completed"
    },
    "tags": []
   },
   "outputs": [
    {
     "data": {
      "text/html": [
       "<div>\n",
       "<style scoped>\n",
       "    .dataframe tbody tr th:only-of-type {\n",
       "        vertical-align: middle;\n",
       "    }\n",
       "\n",
       "    .dataframe tbody tr th {\n",
       "        vertical-align: top;\n",
       "    }\n",
       "\n",
       "    .dataframe thead th {\n",
       "        text-align: right;\n",
       "    }\n",
       "</style>\n",
       "<table border=\"1\" class=\"dataframe\">\n",
       "  <thead>\n",
       "    <tr style=\"text-align: right;\">\n",
       "      <th></th>\n",
       "      <th>age</th>\n",
       "      <th>sex</th>\n",
       "      <th>bmi</th>\n",
       "      <th>children</th>\n",
       "      <th>smoker</th>\n",
       "      <th>region</th>\n",
       "      <th>charges</th>\n",
       "    </tr>\n",
       "  </thead>\n",
       "  <tbody>\n",
       "    <tr>\n",
       "      <th>0</th>\n",
       "      <td>19</td>\n",
       "      <td>1</td>\n",
       "      <td>27.900</td>\n",
       "      <td>0</td>\n",
       "      <td>1</td>\n",
       "      <td>1</td>\n",
       "      <td>16884.92400</td>\n",
       "    </tr>\n",
       "    <tr>\n",
       "      <th>1</th>\n",
       "      <td>18</td>\n",
       "      <td>0</td>\n",
       "      <td>33.770</td>\n",
       "      <td>1</td>\n",
       "      <td>0</td>\n",
       "      <td>2</td>\n",
       "      <td>1725.55230</td>\n",
       "    </tr>\n",
       "    <tr>\n",
       "      <th>2</th>\n",
       "      <td>28</td>\n",
       "      <td>0</td>\n",
       "      <td>33.000</td>\n",
       "      <td>3</td>\n",
       "      <td>0</td>\n",
       "      <td>2</td>\n",
       "      <td>4449.46200</td>\n",
       "    </tr>\n",
       "    <tr>\n",
       "      <th>3</th>\n",
       "      <td>33</td>\n",
       "      <td>0</td>\n",
       "      <td>22.705</td>\n",
       "      <td>0</td>\n",
       "      <td>0</td>\n",
       "      <td>3</td>\n",
       "      <td>21984.47061</td>\n",
       "    </tr>\n",
       "    <tr>\n",
       "      <th>4</th>\n",
       "      <td>32</td>\n",
       "      <td>0</td>\n",
       "      <td>28.880</td>\n",
       "      <td>0</td>\n",
       "      <td>0</td>\n",
       "      <td>3</td>\n",
       "      <td>3866.85520</td>\n",
       "    </tr>\n",
       "  </tbody>\n",
       "</table>\n",
       "</div>"
      ],
      "text/plain": [
       "   age  sex     bmi  children  smoker  region      charges\n",
       "0   19    1  27.900         0       1       1  16884.92400\n",
       "1   18    0  33.770         1       0       2   1725.55230\n",
       "2   28    0  33.000         3       0       2   4449.46200\n",
       "3   33    0  22.705         0       0       3  21984.47061\n",
       "4   32    0  28.880         0       0       3   3866.85520"
      ]
     },
     "execution_count": 17,
     "metadata": {},
     "output_type": "execute_result"
    }
   ],
   "source": [
    "df.head()"
   ]
  },
  {
   "cell_type": "markdown",
   "id": "0623c75e",
   "metadata": {
    "id": "NbjxmmCevig3",
    "papermill": {
     "duration": 0.012127,
     "end_time": "2022-07-11T05:52:50.204990",
     "exception": false,
     "start_time": "2022-07-11T05:52:50.192863",
     "status": "completed"
    },
    "tags": []
   },
   "source": [
    "# **Training & Testing Phase**"
   ]
  },
  {
   "cell_type": "code",
   "execution_count": 18,
   "id": "36e58174",
   "metadata": {
    "execution": {
     "iopub.execute_input": "2022-07-11T05:52:50.232865Z",
     "iopub.status.busy": "2022-07-11T05:52:50.231740Z",
     "iopub.status.idle": "2022-07-11T05:52:50.238693Z",
     "shell.execute_reply": "2022-07-11T05:52:50.237313Z"
    },
    "id": "y4xdnznmEvz-",
    "papermill": {
     "duration": 0.023422,
     "end_time": "2022-07-11T05:52:50.241364",
     "exception": false,
     "start_time": "2022-07-11T05:52:50.217942",
     "status": "completed"
    },
    "tags": []
   },
   "outputs": [],
   "source": [
    "X = df.drop(['charges', 'sex'], axis=1)\n",
    "y = df.charges"
   ]
  },
  {
   "cell_type": "code",
   "execution_count": 19,
   "id": "73d690fe",
   "metadata": {
    "execution": {
     "iopub.execute_input": "2022-07-11T05:52:50.268818Z",
     "iopub.status.busy": "2022-07-11T05:52:50.268420Z",
     "iopub.status.idle": "2022-07-11T05:52:50.278620Z",
     "shell.execute_reply": "2022-07-11T05:52:50.277265Z"
    },
    "id": "gn76y79zEyaT",
    "outputId": "5fd52af9-5a1c-4dc1-a876-63da4f32f8ed",
    "papermill": {
     "duration": 0.02698,
     "end_time": "2022-07-11T05:52:50.281220",
     "exception": false,
     "start_time": "2022-07-11T05:52:50.254240",
     "status": "completed"
    },
    "tags": []
   },
   "outputs": [
    {
     "name": "stdout",
     "output_type": "stream",
     "text": [
      "X_train shape:  (936, 5)\n",
      "X_test shape:  (402, 5)\n",
      "y_train shpae:  (936,)\n",
      "y_test shape:  (402,)\n"
     ]
    }
   ],
   "source": [
    "X_train, X_test, y_train, y_test = train_test_split(X,y, test_size=0.3, random_state=42)\n",
    "print(\"X_train shape: \", X_train.shape)\n",
    "print(\"X_test shape: \", X_test.shape)\n",
    "print(\"y_train shpae: \", y_train.shape)\n",
    "print(\"y_test shape: \", y_test.shape)"
   ]
  },
  {
   "cell_type": "code",
   "execution_count": 20,
   "id": "16a07370",
   "metadata": {
    "execution": {
     "iopub.execute_input": "2022-07-11T05:52:50.309061Z",
     "iopub.status.busy": "2022-07-11T05:52:50.308341Z",
     "iopub.status.idle": "2022-07-11T05:52:50.312578Z",
     "shell.execute_reply": "2022-07-11T05:52:50.311818Z"
    },
    "id": "QwrUHCcNE0wO",
    "papermill": {
     "duration": 0.020152,
     "end_time": "2022-07-11T05:52:50.314570",
     "exception": false,
     "start_time": "2022-07-11T05:52:50.294418",
     "status": "completed"
    },
    "tags": []
   },
   "outputs": [],
   "source": [
    "\n",
    "linreg = LinearRegression()"
   ]
  },
  {
   "cell_type": "code",
   "execution_count": 21,
   "id": "7926289d",
   "metadata": {
    "execution": {
     "iopub.execute_input": "2022-07-11T05:52:50.341722Z",
     "iopub.status.busy": "2022-07-11T05:52:50.340999Z",
     "iopub.status.idle": "2022-07-11T05:52:50.368770Z",
     "shell.execute_reply": "2022-07-11T05:52:50.367741Z"
    },
    "id": "p4FpzKFKE2kW",
    "papermill": {
     "duration": 0.044173,
     "end_time": "2022-07-11T05:52:50.371335",
     "exception": false,
     "start_time": "2022-07-11T05:52:50.327162",
     "status": "completed"
    },
    "tags": []
   },
   "outputs": [],
   "source": [
    "linreg.fit(X_train, y_train) #Fitting the data to the linera regression model\n",
    "pred = linreg.predict(X_test) #Storing the predicted value in pred variable , WE are doing the predication of x testdata"
   ]
  },
  {
   "cell_type": "code",
   "execution_count": 22,
   "id": "43acd872",
   "metadata": {
    "execution": {
     "iopub.execute_input": "2022-07-11T05:52:50.399190Z",
     "iopub.status.busy": "2022-07-11T05:52:50.398288Z",
     "iopub.status.idle": "2022-07-11T05:52:50.402817Z",
     "shell.execute_reply": "2022-07-11T05:52:50.402016Z"
    },
    "id": "_HJDbYTYE4sA",
    "papermill": {
     "duration": 0.020741,
     "end_time": "2022-07-11T05:52:50.404838",
     "exception": false,
     "start_time": "2022-07-11T05:52:50.384097",
     "status": "completed"
    },
    "tags": []
   },
   "outputs": [],
   "source": [
    "from sklearn.metrics import r2_score"
   ]
  },
  {
   "cell_type": "code",
   "execution_count": 23,
   "id": "df7e8eb6",
   "metadata": {
    "execution": {
     "iopub.execute_input": "2022-07-11T05:52:50.432323Z",
     "iopub.status.busy": "2022-07-11T05:52:50.431555Z",
     "iopub.status.idle": "2022-07-11T05:52:50.437839Z",
     "shell.execute_reply": "2022-07-11T05:52:50.436503Z"
    },
    "id": "Qz-YFJyEE6t0",
    "outputId": "5fe393f7-882f-4e4b-d8d6-fba5abe8fe24",
    "papermill": {
     "duration": 0.023744,
     "end_time": "2022-07-11T05:52:50.441145",
     "exception": false,
     "start_time": "2022-07-11T05:52:50.417401",
     "status": "completed"
    },
    "tags": []
   },
   "outputs": [
    {
     "name": "stdout",
     "output_type": "stream",
     "text": [
      "R2 score:  0.7697211527941855\n"
     ]
    }
   ],
   "source": [
    "print(\"R2 score: \",(r2_score(y_test, pred)))"
   ]
  },
  {
   "cell_type": "code",
   "execution_count": 24,
   "id": "e3c26b67",
   "metadata": {
    "execution": {
     "iopub.execute_input": "2022-07-11T05:52:50.469359Z",
     "iopub.status.busy": "2022-07-11T05:52:50.468973Z",
     "iopub.status.idle": "2022-07-11T05:52:50.622394Z",
     "shell.execute_reply": "2022-07-11T05:52:50.621510Z"
    },
    "id": "wZQofnCJE8hi",
    "outputId": "d5ccae5e-ea94-4efa-ef96-8bb87fce8394",
    "papermill": {
     "duration": 0.170559,
     "end_time": "2022-07-11T05:52:50.624835",
     "exception": false,
     "start_time": "2022-07-11T05:52:50.454276",
     "status": "completed"
    },
    "tags": []
   },
   "outputs": [
    {
     "data": {
      "image/png": "[encoded data removed]",
      "text/plain": [
       "<Figure size 432x288 with 1 Axes>"
      ]
     },
     "metadata": {},
     "output_type": "display_data"
    }
   ],
   "source": [
    "plt.scatter(y_test, pred)\n",
    "plt.xlabel('Y test')\n",
    "plt.ylabel('Y pred')\n",
    "plt.show()"
   ]
  },
  {
   "cell_type": "markdown",
   "id": "9a37b170",
   "metadata": {
    "id": "un9IeTvmwJSa",
    "papermill": {
     "duration": 0.012863,
     "end_time": "2022-07-11T05:52:50.651046",
     "exception": false,
     "start_time": "2022-07-11T05:52:50.638183",
     "status": "completed"
    },
    "tags": []
   },
   "source": [
    "# **Now we have trained our model . Now we test the new data**"
   ]
  },
  {
   "cell_type": "code",
   "execution_count": 25,
   "id": "07a6b5e7",
   "metadata": {
    "execution": {
     "iopub.execute_input": "2022-07-11T05:52:50.679643Z",
     "iopub.status.busy": "2022-07-11T05:52:50.678937Z",
     "iopub.status.idle": "2022-07-11T05:52:50.690663Z",
     "shell.execute_reply": "2022-07-11T05:52:50.689811Z"
    },
    "id": "lgltGlrLE-U8",
    "outputId": "4716e434-5a49-4415-fda3-ba46c6c91982",
    "papermill": {
     "duration": 0.028672,
     "end_time": "2022-07-11T05:52:50.692831",
     "exception": false,
     "start_time": "2022-07-11T05:52:50.664159",
     "status": "completed"
    },
    "tags": []
   },
   "outputs": [
    {
     "data": {
      "text/html": [
       "<div>\n",
       "<style scoped>\n",
       "    .dataframe tbody tr th:only-of-type {\n",
       "        vertical-align: middle;\n",
       "    }\n",
       "\n",
       "    .dataframe tbody tr th {\n",
       "        vertical-align: top;\n",
       "    }\n",
       "\n",
       "    .dataframe thead th {\n",
       "        text-align: right;\n",
       "    }\n",
       "</style>\n",
       "<table border=\"1\" class=\"dataframe\">\n",
       "  <thead>\n",
       "    <tr style=\"text-align: right;\">\n",
       "      <th></th>\n",
       "      <th>age</th>\n",
       "      <th>bmi</th>\n",
       "      <th>children</th>\n",
       "      <th>smoker</th>\n",
       "      <th>region</th>\n",
       "    </tr>\n",
       "  </thead>\n",
       "  <tbody>\n",
       "    <tr>\n",
       "      <th>0</th>\n",
       "      <td>50</td>\n",
       "      <td>25</td>\n",
       "      <td>2</td>\n",
       "      <td>0</td>\n",
       "      <td>2</td>\n",
       "    </tr>\n",
       "  </tbody>\n",
       "</table>\n",
       "</div>"
      ],
      "text/plain": [
       "   age  bmi  children  smoker  region\n",
       "0   50   25         2       0       2"
      ]
     },
     "execution_count": 25,
     "metadata": {},
     "output_type": "execute_result"
    }
   ],
   "source": [
    "data = {'age':50, 'bmi':25, 'children':2, 'smoker':0, 'region':2} #Sample data\n",
    "index = [0] #Setting the data at index 0\n",
    "cust_df = pd.DataFrame(data, index)\n",
    "cust_df"
   ]
  },
  {
   "cell_type": "code",
   "execution_count": 26,
   "id": "2997f75e",
   "metadata": {
    "execution": {
     "iopub.execute_input": "2022-07-11T05:52:50.721930Z",
     "iopub.status.busy": "2022-07-11T05:52:50.721273Z",
     "iopub.status.idle": "2022-07-11T05:52:50.728157Z",
     "shell.execute_reply": "2022-07-11T05:52:50.727366Z"
    },
    "id": "I0NE5dAxFAjW",
    "outputId": "75b76952-820e-4666-fba3-abc129d57619",
    "papermill": {
     "duration": 0.024618,
     "end_time": "2022-07-11T05:52:50.730896",
     "exception": false,
     "start_time": "2022-07-11T05:52:50.706278",
     "status": "completed"
    },
    "tags": []
   },
   "outputs": [
    {
     "name": "stdout",
     "output_type": "stream",
     "text": [
      "The medical insurance cost of the new customer is:  [9579.86504857]\n"
     ]
    }
   ],
   "source": [
    "cost_pred = linreg.predict(cust_df)\n",
    "print(\"The medical insurance cost of the new customer is: \", cost_pred)"
   ]
  },
  {
   "cell_type": "code",
   "execution_count": 27,
   "id": "e79cfdcd",
   "metadata": {
    "execution": {
     "iopub.execute_input": "2022-07-11T05:52:50.760526Z",
     "iopub.status.busy": "2022-07-11T05:52:50.760113Z",
     "iopub.status.idle": "2022-07-11T05:52:50.773190Z",
     "shell.execute_reply": "2022-07-11T05:52:50.772232Z"
    },
    "id": "hHtElWrDFCxU",
    "outputId": "aae44103-39cd-48a0-98f3-483885078c95",
    "papermill": {
     "duration": 0.030957,
     "end_time": "2022-07-11T05:52:50.775725",
     "exception": false,
     "start_time": "2022-07-11T05:52:50.744768",
     "status": "completed"
    },
    "tags": []
   },
   "outputs": [
    {
     "data": {
      "text/html": [
       "<div>\n",
       "<style scoped>\n",
       "    .dataframe tbody tr th:only-of-type {\n",
       "        vertical-align: middle;\n",
       "    }\n",
       "\n",
       "    .dataframe tbody tr th {\n",
       "        vertical-align: top;\n",
       "    }\n",
       "\n",
       "    .dataframe thead th {\n",
       "        text-align: right;\n",
       "    }\n",
       "</style>\n",
       "<table border=\"1\" class=\"dataframe\">\n",
       "  <thead>\n",
       "    <tr style=\"text-align: right;\">\n",
       "      <th></th>\n",
       "      <th>age</th>\n",
       "      <th>bmi</th>\n",
       "      <th>children</th>\n",
       "      <th>smoker</th>\n",
       "      <th>region</th>\n",
       "    </tr>\n",
       "  </thead>\n",
       "  <tbody>\n",
       "    <tr>\n",
       "      <th>0</th>\n",
       "      <td>50</td>\n",
       "      <td>25</td>\n",
       "      <td>2</td>\n",
       "      <td>1</td>\n",
       "      <td>2</td>\n",
       "    </tr>\n",
       "  </tbody>\n",
       "</table>\n",
       "</div>"
      ],
      "text/plain": [
       "   age  bmi  children  smoker  region\n",
       "0   50   25         2       1       2"
      ]
     },
     "execution_count": 27,
     "metadata": {},
     "output_type": "execute_result"
    }
   ],
   "source": [
    "# Another Data (where we have a smoker)\n",
    "data = {'age':50, 'bmi':25, 'children':2, 'smoker':1, 'region':2} #Sample data\n",
    "index = [0] #Setting the data at index 0\n",
    "cust_df = pd.DataFrame(data, index)\n",
    "cust_df"
   ]
  },
  {
   "cell_type": "code",
   "execution_count": 28,
   "id": "0bd96cc8",
   "metadata": {
    "execution": {
     "iopub.execute_input": "2022-07-11T05:52:50.805205Z",
     "iopub.status.busy": "2022-07-11T05:52:50.804375Z",
     "iopub.status.idle": "2022-07-11T05:52:50.813498Z",
     "shell.execute_reply": "2022-07-11T05:52:50.812184Z"
    },
    "id": "wf3bdOUlxHgn",
    "outputId": "71617e12-ac5c-4d55-a3e2-551a3ff87da2",
    "papermill": {
     "duration": 0.026693,
     "end_time": "2022-07-11T05:52:50.816322",
     "exception": false,
     "start_time": "2022-07-11T05:52:50.789629",
     "status": "completed"
    },
    "tags": []
   },
   "outputs": [
    {
     "name": "stdout",
     "output_type": "stream",
     "text": [
      "The medical insurance cost of the new customer is:  [33206.92756082]\n"
     ]
    }
   ],
   "source": [
    "cost_pred = linreg.predict(cust_df)\n",
    "print(\"The medical insurance cost of the new customer is: \", cost_pred)"
   ]
  }
 ],
 "metadata": {
  "kernelspec": {
   "display_name": "Python 3",
   "language": "python",
   "name": "python3"
  },
  "language_info": {
   "codemirror_mode": {
    "name": "ipython",
    "version": 3
   },
   "file_extension": ".py",
   "mimetype": "text/x-python",
   "name": "python",
   "nbconvert_exporter": "python",
   "pygments_lexer": "ipython3",
   "version": "3.7.12"
  },
  "papermill": {
   "default_parameters": {},
   "duration": 16.117258,
   "end_time": "2022-07-11T05:52:51.552019",
   "environment_variables": {},
   "exception": null,
   "input_path": "__notebook__.ipynb",
   "output_path": "__notebook__.ipynb",
   "parameters": {},
   "start_time": "2022-07-11T05:52:35.434761",
   "version": "2.3.4"
  }
 },
 "nbformat": 4,
 "nbformat_minor": 5
}
